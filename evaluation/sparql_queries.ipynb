{
 "cells": [
  {
   "cell_type": "markdown",
   "id": "6e0b6fbc-4b80-498c-b8ee-bfdeffbc0b66",
   "metadata": {},
   "source": [
    "# SPARQL Competency questions"
   ]
  },
  {
   "cell_type": "code",
   "execution_count": 3,
   "id": "ed28ce3a-5a96-442a-973a-5a7a93420d5a",
   "metadata": {},
   "outputs": [
    {
     "data": {
      "text/plain": [
       "<Graph identifier=N52234820d5df4e4fb65237925e93445c (<class 'rdflib.graph.Graph'>)>"
      ]
     },
     "execution_count": 3,
     "metadata": {},
     "output_type": "execute_result"
    }
   ],
   "source": [
    "from rdflib import Graph\n",
    "\n",
    "ontology_path = \"../peo_ontology.rdf\"\n",
    "\n",
    "g = Graph()\n",
    "g.parse(ontology_path, format=\"xml\")  "
   ]
  },
  {
   "cell_type": "code",
   "execution_count": 10,
   "id": "f6f746db-d02d-486f-a6c1-1428ac026984",
   "metadata": {},
   "outputs": [],
   "source": [
    "def execute_query(sparql_query: str):\n",
    "    results_list = []\n",
    "    results = g.query(sparql_query)\n",
    "\n",
    "    for row in results:\n",
    "        results_list.append(row)\n",
    "\n",
    "    return results_list\n",
    "\n",
    "\n",
    "def print_results(results: list):\n",
    "    for r in results:\n",
    "        print(r)"
   ]
  },
  {
   "cell_type": "markdown",
   "id": "87410315-d394-43d2-b45a-3c79ae3bae64",
   "metadata": {},
   "source": [
    "## CQ1: What is prompt engineering?"
   ]
  },
  {
   "cell_type": "code",
   "execution_count": 11,
   "id": "674c10c6-f7d7-4ef6-9459-090f9a993127",
   "metadata": {},
   "outputs": [
    {
     "name": "stdout",
     "output_type": "stream",
     "text": [
      "(rdflib.term.URIRef('http://www.w3.org/1999/02/22-rdf-syntax-ns#type'), rdflib.term.URIRef('http://www.w3.org/2002/07/owl#Class'))\n",
      "(rdflib.term.URIRef('http://www.w3.org/2000/01/rdf-schema#label'), rdflib.term.Literal('Prompt engineering'))\n",
      "(rdflib.term.URIRef('https://w3id.org/peo#description'), rdflib.term.Literal(\"Practice of crafting and optimizing input prompts to guide AI models, particularly large language models, to produce desired outputs. It involves understanding the model's behavior and leveraging techniques like few-shot learning, zero-shot prompting, or specific formatting to achieve accurate, relevant, and context-aware results for various tasks.\"))\n"
     ]
    }
   ],
   "source": [
    "cq1 = \"\"\" \n",
    "SELECT DISTINCT ?property ?value\n",
    "WHERE {\n",
    "    <https://w3id.org/peo#prompt_engineering> ?property ?value .\n",
    "}\n",
    "\"\"\"\n",
    "\n",
    "results_cq1 = execute_query(cq1)\n",
    "print_results(results_cq1)"
   ]
  },
  {
   "cell_type": "markdown",
   "id": "3fee7a6e-5b9d-449a-bdd7-2be7b089cf3f",
   "metadata": {},
   "source": [
    "## CQ2: What is a prompt?"
   ]
  },
  {
   "cell_type": "code",
   "execution_count": 7,
   "id": "9b9deb31-04fe-4533-952e-3054bcaec832",
   "metadata": {},
   "outputs": [
    {
     "name": "stdout",
     "output_type": "stream",
     "text": [
      "[(rdflib.term.URIRef('http://www.w3.org/1999/02/22-rdf-syntax-ns#type'), rdflib.term.URIRef('http://www.w3.org/2002/07/owl#Class')), (rdflib.term.URIRef('http://www.w3.org/2000/01/rdf-schema#subClassOf'), rdflib.term.URIRef('https://w3id.org/peo#prompt_engineering')), (rdflib.term.URIRef('http://www.w3.org/2000/01/rdf-schema#label'), rdflib.term.Literal('Prompt')), (rdflib.term.URIRef('https://w3id.org/peo#description'), rdflib.term.Literal('Input to a large language model.'))]\n"
     ]
    }
   ],
   "source": [
    "cq2 = \"\"\"\n",
    "SELECT DISTINCT ?property ?value\n",
    "WHERE {\n",
    "    <https://w3id.org/peo#prompt> ?property ?value .\n",
    "}\n",
    "\"\"\"\n",
    "\n",
    "results_cq2 = execute_query(cq2)\n",
    "print_results(results_cq2)"
   ]
  },
  {
   "cell_type": "markdown",
   "id": "6220b3c0-8d67-4c5c-b39e-1f62754683ae",
   "metadata": {},
   "source": [
    "## CQ3: What are prompting techniques?"
   ]
  },
  {
   "cell_type": "code",
   "execution_count": 9,
   "id": "95e86004-1bc1-4cbd-b0ef-25f14bcbce1c",
   "metadata": {},
   "outputs": [
    {
     "name": "stdout",
     "output_type": "stream",
     "text": [
      "(rdflib.term.URIRef('https://w3id.org/peo#active_prompting'), rdflib.term.Literal('Active prompting'))\n",
      "(rdflib.term.URIRef('https://w3id.org/peo#analogical_prompting'), rdflib.term.Literal('Analogical prompting'))\n",
      "(rdflib.term.URIRef('https://w3id.org/peo#automatic_cot_prompting'), rdflib.term.Literal('Automatic Chain-of-Thought prompting'))\n",
      "(rdflib.term.URIRef('https://w3id.org/peo#chain_of_knowledge_prompting'), rdflib.term.Literal('Chain-of-Knowledge prompting'))\n",
      "(rdflib.term.URIRef('https://w3id.org/peo#chain_of_note_prompting'), rdflib.term.Literal('Chain-of-Note prompting'))\n",
      "(rdflib.term.URIRef('https://w3id.org/peo#chain_of_table_prompting'), rdflib.term.Literal('Chain-of-Table prompting'))\n",
      "(rdflib.term.URIRef('https://w3id.org/peo#chain_of_thought_prompting'), rdflib.term.Literal('Chain-of-Thought prompting'))\n",
      "(rdflib.term.URIRef('https://w3id.org/peo#chain_of_verification_prompting'), rdflib.term.Literal('Chain-of-Verification prompting'))\n",
      "(rdflib.term.URIRef('https://w3id.org/peo#code_prompting'), rdflib.term.Literal('Code prompting technque'))\n",
      "(rdflib.term.URIRef('https://w3id.org/peo#decomposed_prompting'), rdflib.term.Literal('Decomposed prompting'))\n",
      "(rdflib.term.URIRef('https://w3id.org/peo#emotion_prompting'), rdflib.term.Literal('Emotion prompting'))\n",
      "(rdflib.term.URIRef('https://w3id.org/peo#few_shot_prompting'), rdflib.term.Literal('Few shot prompting'))\n",
      "(rdflib.term.URIRef('https://w3id.org/peo#graph_of_thought_prompting'), rdflib.term.Literal('Graph of Thoughts prompting'))\n",
      "(rdflib.term.URIRef('https://w3id.org/peo#image_prompting'), rdflib.term.Literal('Image prompting technique'))\n",
      "(rdflib.term.URIRef('https://w3id.org/peo#least_to_most_prompting'), rdflib.term.Literal('Least-to-most prompting'))\n",
      "(rdflib.term.URIRef('https://w3id.org/peo#logical_chain_of_thought_prompting'), rdflib.term.Literal('Logical Chain-of-Thought prompting'))\n",
      "(rdflib.term.URIRef('https://w3id.org/peo#plan_and_solve_prompting'), rdflib.term.Literal('Plan-and-Solve prompting'))\n",
      "(rdflib.term.URIRef('https://w3id.org/peo#rag_prompting'), rdflib.term.Literal('Retrieval Augmented Generation - RAG prompting'))\n",
      "(rdflib.term.URIRef('https://w3id.org/peo#react_prompting'), rdflib.term.Literal('ReAct prompting'))\n",
      "(rdflib.term.URIRef('https://w3id.org/peo#rephrase_and_respond_prompting'), rdflib.term.Literal('Rephrase and Respond prompting'))\n",
      "(rdflib.term.URIRef('https://w3id.org/peo#role_prompting'), rdflib.term.Literal('Role prompting'))\n",
      "(rdflib.term.URIRef('https://w3id.org/peo#self_consistency_prompting'), rdflib.term.Literal('Self consistency prompting'))\n",
      "(rdflib.term.URIRef('https://w3id.org/peo#system_2_attention_prompting'), rdflib.term.Literal('System-2-Attention prompting'))\n",
      "(rdflib.term.URIRef('https://w3id.org/peo#take_step_back_prompting'), rdflib.term.Literal('Take a step back prompting'))\n",
      "(rdflib.term.URIRef('https://w3id.org/peo#thread_of_thought_prompting'), rdflib.term.Literal('Thread of thought prompting'))\n",
      "(rdflib.term.URIRef('https://w3id.org/peo#tree_of_thoughts_prompting'), rdflib.term.Literal('Tree of Thoughts prompting'))\n",
      "(rdflib.term.URIRef('https://w3id.org/peo#zero_shot_prompting'), rdflib.term.Literal('Zero shot prompting'))\n"
     ]
    }
   ],
   "source": [
    "cq3 = \"\"\"\n",
    "SELECT DISTINCT ?subclass ?label\n",
    "WHERE {\n",
    "    ?subclass rdfs:subClassOf <https://w3id.org/peo#prompting_technique> .\n",
    "    OPTIONAL { ?subclass rdfs:label ?label . }\n",
    "}\n",
    "\"\"\"\n",
    "\n",
    "results_cq3 = execute_query(cq3)\n",
    "print_results(results_cq3)"
   ]
  },
  {
   "cell_type": "markdown",
   "id": "5b85dc35-fa6d-4613-b193-cc4ec54c2278",
   "metadata": {},
   "source": [
    "## CQ4: What are image prompting techniques?"
   ]
  },
  {
   "cell_type": "code",
   "execution_count": 12,
   "id": "c2f21f43-8e04-46fe-b3b6-c9cbdf3af995",
   "metadata": {},
   "outputs": [
    {
     "name": "stdout",
     "output_type": "stream",
     "text": [
      "(rdflib.term.URIRef('https://w3id.org/peo#fix_deformed_generations'), rdflib.term.Literal('Fix deformed generations'))\n",
      "(rdflib.term.URIRef('https://w3id.org/peo#lighting'), rdflib.term.Literal('Lighting'))\n",
      "(rdflib.term.URIRef('https://w3id.org/peo#quality_boosters'), rdflib.term.Literal('Quality boosters'))\n",
      "(rdflib.term.URIRef('https://w3id.org/peo#repetition'), rdflib.term.Literal('Repetition'))\n",
      "(rdflib.term.URIRef('https://w3id.org/peo#shot_type'), rdflib.term.Literal('Shot type'))\n",
      "(rdflib.term.URIRef('https://w3id.org/peo#style_modifiers'), rdflib.term.Literal('Style modifiers'))\n"
     ]
    }
   ],
   "source": [
    "cq4 = \"\"\"\n",
    "SELECT DISTINCT ?subclass ?label\n",
    "WHERE {\n",
    "    ?subclass rdfs:subClassOf <https://w3id.org/peo#image_prompting> .\n",
    "    OPTIONAL { ?subclass rdfs:label ?label . }\n",
    "}\n",
    "\"\"\"\n",
    "\n",
    "results_cq4 = execute_query(cq4)\n",
    "print_results(results_cq4)"
   ]
  },
  {
   "cell_type": "markdown",
   "id": "1064af9a-ec51-4f20-bd46-989e590a8d59",
   "metadata": {},
   "source": [
    "## CQ5: What are code prompting techniques?"
   ]
  },
  {
   "cell_type": "code",
   "execution_count": 13,
   "id": "c604dbf1-f5cf-4e3a-ac24-571deea5fdbb",
   "metadata": {},
   "outputs": [
    {
     "name": "stdout",
     "output_type": "stream",
     "text": [
      "(rdflib.term.URIRef('https://w3id.org/peo#chain_of_code_prompting'), rdflib.term.Literal('Chain-of-Code prompting'))\n",
      "(rdflib.term.URIRef('https://w3id.org/peo#program_of_thoughts_prompting'), rdflib.term.Literal('Program of Thoughts prompting'))\n",
      "(rdflib.term.URIRef('https://w3id.org/peo#scratchpad_prompting'), rdflib.term.Literal('Scratchpad prompting'))\n",
      "(rdflib.term.URIRef('https://w3id.org/peo#structured_cot_prompting'), rdflib.term.Literal('Structured Chain-of-Thought prompting'))\n"
     ]
    }
   ],
   "source": [
    "cq5 = \"\"\"\n",
    "SELECT DISTINCT ?subclass ?label\n",
    "WHERE {\n",
    "    ?subclass rdfs:subClassOf <https://w3id.org/peo#code_prompting> .\n",
    "    OPTIONAL { ?subclass rdfs:label ?label . }\n",
    "}\n",
    "\"\"\"\n",
    "\n",
    "results_cq5 = execute_query(cq5)\n",
    "print_results(results_cq5)"
   ]
  },
  {
   "cell_type": "markdown",
   "id": "1187a03e-e1ae-454e-a30b-b13a1c5cc0b2",
   "metadata": {},
   "source": [
    "## CQ6: Which task does a prompt solve?"
   ]
  },
  {
   "cell_type": "code",
   "execution_count": 14,
   "id": "fc0b59be-6ae9-43b7-b911-e28aad410dc0",
   "metadata": {},
   "outputs": [
    {
     "name": "stdout",
     "output_type": "stream",
     "text": [
      "(rdflib.term.URIRef('https://w3id.org/peo#an_prompting_1'), rdflib.term.URIRef('https://w3id.org/peo#emotion_classification_1'), None)\n",
      "(rdflib.term.URIRef('https://w3id.org/peo#em_prompting_1'), rdflib.term.URIRef('https://w3id.org/peo#emotion_classification_1'), None)\n",
      "(rdflib.term.URIRef('https://w3id.org/peo#fs_prompting_1'), rdflib.term.URIRef('https://w3id.org/peo#emotion_classification_1'), None)\n",
      "(rdflib.term.URIRef('https://w3id.org/peo#ro_prompting_1'), rdflib.term.URIRef('https://w3id.org/peo#emotion_classification_1'), None)\n",
      "(rdflib.term.URIRef('https://w3id.org/peo#zs_prompting_1'), rdflib.term.URIRef('https://w3id.org/peo#emotion_classification_1'), None)\n",
      "(rdflib.term.URIRef('https://w3id.org/peo#an_prompting_2'), rdflib.term.URIRef('https://w3id.org/peo#math_1'), None)\n",
      "(rdflib.term.URIRef('https://w3id.org/peo#em_prompting_2'), rdflib.term.URIRef('https://w3id.org/peo#math_1'), None)\n",
      "(rdflib.term.URIRef('https://w3id.org/peo#fs_prompting_2'), rdflib.term.URIRef('https://w3id.org/peo#math_1'), None)\n",
      "(rdflib.term.URIRef('https://w3id.org/peo#ro_prompting_2'), rdflib.term.URIRef('https://w3id.org/peo#math_1'), None)\n",
      "(rdflib.term.URIRef('https://w3id.org/peo#zs_prompting_2'), rdflib.term.URIRef('https://w3id.org/peo#math_1'), None)\n",
      "(rdflib.term.URIRef('https://w3id.org/peo#an_prompting_3'), rdflib.term.URIRef('https://w3id.org/peo#translation_1'), None)\n",
      "(rdflib.term.URIRef('https://w3id.org/peo#em_prompting_3'), rdflib.term.URIRef('https://w3id.org/peo#translation_1'), None)\n",
      "(rdflib.term.URIRef('https://w3id.org/peo#fs_prompting_3'), rdflib.term.URIRef('https://w3id.org/peo#translation_1'), None)\n",
      "(rdflib.term.URIRef('https://w3id.org/peo#ro_prompting_3'), rdflib.term.URIRef('https://w3id.org/peo#translation_1'), None)\n",
      "(rdflib.term.URIRef('https://w3id.org/peo#zs_prompting_3'), rdflib.term.URIRef('https://w3id.org/peo#translation_1'), None)\n",
      "(rdflib.term.URIRef('https://w3id.org/peo#an_prompting_4'), rdflib.term.URIRef('https://w3id.org/peo#summarization_1'), None)\n",
      "(rdflib.term.URIRef('https://w3id.org/peo#em_prompting_4'), rdflib.term.URIRef('https://w3id.org/peo#summarization_1'), None)\n",
      "(rdflib.term.URIRef('https://w3id.org/peo#fs_prompting_4'), rdflib.term.URIRef('https://w3id.org/peo#summarization_1'), None)\n",
      "(rdflib.term.URIRef('https://w3id.org/peo#ro_prompting_4'), rdflib.term.URIRef('https://w3id.org/peo#summarization_1'), None)\n",
      "(rdflib.term.URIRef('https://w3id.org/peo#zs_prompting_4'), rdflib.term.URIRef('https://w3id.org/peo#summarization_1'), None)\n"
     ]
    }
   ],
   "source": [
    "cq6 = \"\"\"\n",
    "SELECT DISTINCT ?prompt ?task ?taskLabel\n",
    "WHERE {\n",
    "    ?prompt <https://w3id.org/peo#solves> ?task .\n",
    "    OPTIONAL { ?task rdfs:label ?taskLabel . }\n",
    "}\n",
    "\"\"\"\n",
    "\n",
    "results_cq6 = execute_query(cq6)\n",
    "print_results(results_cq6)"
   ]
  },
  {
   "cell_type": "markdown",
   "id": "6609cf92-ecb7-4e65-bec0-da30af156deb",
   "metadata": {},
   "source": [
    "## CQ7: Which prompts are generated using a prompting technique?"
   ]
  },
  {
   "cell_type": "code",
   "execution_count": 15,
   "id": "febd628d-87fd-401a-9735-08f8500f2673",
   "metadata": {},
   "outputs": [
    {
     "name": "stdout",
     "output_type": "stream",
     "text": [
      "(rdflib.term.URIRef('https://w3id.org/peo#an_1'), rdflib.term.URIRef('https://w3id.org/peo#an_prompting_1'), None)\n",
      "(rdflib.term.URIRef('https://w3id.org/peo#an_2'), rdflib.term.URIRef('https://w3id.org/peo#an_prompting_1'), None)\n",
      "(rdflib.term.URIRef('https://w3id.org/peo#an_3'), rdflib.term.URIRef('https://w3id.org/peo#an_prompting_1'), None)\n",
      "(rdflib.term.URIRef('https://w3id.org/peo#an_10'), rdflib.term.URIRef('https://w3id.org/peo#an_prompting_4'), None)\n",
      "(rdflib.term.URIRef('https://w3id.org/peo#an_11'), rdflib.term.URIRef('https://w3id.org/peo#an_prompting_4'), None)\n",
      "(rdflib.term.URIRef('https://w3id.org/peo#an_12'), rdflib.term.URIRef('https://w3id.org/peo#an_prompting_4'), None)\n",
      "(rdflib.term.URIRef('https://w3id.org/peo#an_4'), rdflib.term.URIRef('https://w3id.org/peo#an_prompting_2'), None)\n",
      "(rdflib.term.URIRef('https://w3id.org/peo#an_5'), rdflib.term.URIRef('https://w3id.org/peo#an_prompting_2'), None)\n",
      "(rdflib.term.URIRef('https://w3id.org/peo#an_6'), rdflib.term.URIRef('https://w3id.org/peo#an_prompting_2'), None)\n",
      "(rdflib.term.URIRef('https://w3id.org/peo#an_7'), rdflib.term.URIRef('https://w3id.org/peo#an_prompting_3'), None)\n",
      "(rdflib.term.URIRef('https://w3id.org/peo#an_8'), rdflib.term.URIRef('https://w3id.org/peo#an_prompting_3'), None)\n",
      "(rdflib.term.URIRef('https://w3id.org/peo#an_9'), rdflib.term.URIRef('https://w3id.org/peo#an_prompting_3'), None)\n",
      "(rdflib.term.URIRef('https://w3id.org/peo#em_1'), rdflib.term.URIRef('https://w3id.org/peo#em_prompting_1'), None)\n",
      "(rdflib.term.URIRef('https://w3id.org/peo#em_2'), rdflib.term.URIRef('https://w3id.org/peo#em_prompting_1'), None)\n",
      "(rdflib.term.URIRef('https://w3id.org/peo#em_3'), rdflib.term.URIRef('https://w3id.org/peo#em_prompting_1'), None)\n",
      "(rdflib.term.URIRef('https://w3id.org/peo#em_10'), rdflib.term.URIRef('https://w3id.org/peo#em_prompting_4'), None)\n",
      "(rdflib.term.URIRef('https://w3id.org/peo#em_11'), rdflib.term.URIRef('https://w3id.org/peo#em_prompting_4'), None)\n",
      "(rdflib.term.URIRef('https://w3id.org/peo#em_12'), rdflib.term.URIRef('https://w3id.org/peo#em_prompting_4'), None)\n",
      "(rdflib.term.URIRef('https://w3id.org/peo#em_4'), rdflib.term.URIRef('https://w3id.org/peo#em_prompting_2'), None)\n",
      "(rdflib.term.URIRef('https://w3id.org/peo#em_5'), rdflib.term.URIRef('https://w3id.org/peo#em_prompting_2'), None)\n",
      "(rdflib.term.URIRef('https://w3id.org/peo#em_6'), rdflib.term.URIRef('https://w3id.org/peo#em_prompting_2'), None)\n",
      "(rdflib.term.URIRef('https://w3id.org/peo#em_7'), rdflib.term.URIRef('https://w3id.org/peo#em_prompting_3'), None)\n",
      "(rdflib.term.URIRef('https://w3id.org/peo#em_8'), rdflib.term.URIRef('https://w3id.org/peo#em_prompting_3'), None)\n",
      "(rdflib.term.URIRef('https://w3id.org/peo#em_9'), rdflib.term.URIRef('https://w3id.org/peo#em_prompting_3'), None)\n",
      "(rdflib.term.URIRef('https://w3id.org/peo#fs_1'), rdflib.term.URIRef('https://w3id.org/peo#fs_prompting_1'), None)\n",
      "(rdflib.term.URIRef('https://w3id.org/peo#fs_2'), rdflib.term.URIRef('https://w3id.org/peo#fs_prompting_1'), None)\n",
      "(rdflib.term.URIRef('https://w3id.org/peo#fs_3'), rdflib.term.URIRef('https://w3id.org/peo#fs_prompting_1'), None)\n",
      "(rdflib.term.URIRef('https://w3id.org/peo#fs_10'), rdflib.term.URIRef('https://w3id.org/peo#fs_prompting_4'), None)\n",
      "(rdflib.term.URIRef('https://w3id.org/peo#fs_11'), rdflib.term.URIRef('https://w3id.org/peo#fs_prompting_4'), None)\n",
      "(rdflib.term.URIRef('https://w3id.org/peo#fs_12'), rdflib.term.URIRef('https://w3id.org/peo#fs_prompting_4'), None)\n",
      "(rdflib.term.URIRef('https://w3id.org/peo#fs_4'), rdflib.term.URIRef('https://w3id.org/peo#fs_prompting_2'), None)\n",
      "(rdflib.term.URIRef('https://w3id.org/peo#fs_5'), rdflib.term.URIRef('https://w3id.org/peo#fs_prompting_2'), None)\n",
      "(rdflib.term.URIRef('https://w3id.org/peo#fs_6'), rdflib.term.URIRef('https://w3id.org/peo#fs_prompting_2'), None)\n",
      "(rdflib.term.URIRef('https://w3id.org/peo#fs_7'), rdflib.term.URIRef('https://w3id.org/peo#fs_prompting_3'), None)\n",
      "(rdflib.term.URIRef('https://w3id.org/peo#fs_8'), rdflib.term.URIRef('https://w3id.org/peo#fs_prompting_3'), None)\n",
      "(rdflib.term.URIRef('https://w3id.org/peo#fs_9'), rdflib.term.URIRef('https://w3id.org/peo#fs_prompting_3'), None)\n",
      "(rdflib.term.URIRef('https://w3id.org/peo#ro_1'), rdflib.term.URIRef('https://w3id.org/peo#ro_prompting_1'), None)\n",
      "(rdflib.term.URIRef('https://w3id.org/peo#ro_2'), rdflib.term.URIRef('https://w3id.org/peo#ro_prompting_1'), None)\n",
      "(rdflib.term.URIRef('https://w3id.org/peo#ro_3'), rdflib.term.URIRef('https://w3id.org/peo#ro_prompting_1'), None)\n",
      "(rdflib.term.URIRef('https://w3id.org/peo#ro_10'), rdflib.term.URIRef('https://w3id.org/peo#ro_prompting_4'), None)\n",
      "(rdflib.term.URIRef('https://w3id.org/peo#ro_11'), rdflib.term.URIRef('https://w3id.org/peo#ro_prompting_4'), None)\n",
      "(rdflib.term.URIRef('https://w3id.org/peo#ro_12'), rdflib.term.URIRef('https://w3id.org/peo#ro_prompting_4'), None)\n",
      "(rdflib.term.URIRef('https://w3id.org/peo#ro_4'), rdflib.term.URIRef('https://w3id.org/peo#ro_prompting_2'), None)\n",
      "(rdflib.term.URIRef('https://w3id.org/peo#ro_5'), rdflib.term.URIRef('https://w3id.org/peo#ro_prompting_2'), None)\n",
      "(rdflib.term.URIRef('https://w3id.org/peo#ro_6'), rdflib.term.URIRef('https://w3id.org/peo#ro_prompting_2'), None)\n",
      "(rdflib.term.URIRef('https://w3id.org/peo#ro_7'), rdflib.term.URIRef('https://w3id.org/peo#ro_prompting_3'), None)\n",
      "(rdflib.term.URIRef('https://w3id.org/peo#ro_8'), rdflib.term.URIRef('https://w3id.org/peo#ro_prompting_3'), None)\n",
      "(rdflib.term.URIRef('https://w3id.org/peo#ro_9'), rdflib.term.URIRef('https://w3id.org/peo#ro_prompting_3'), None)\n",
      "(rdflib.term.URIRef('https://w3id.org/peo#zs_1'), rdflib.term.URIRef('https://w3id.org/peo#zs_prompting_1'), None)\n",
      "(rdflib.term.URIRef('https://w3id.org/peo#zs_2'), rdflib.term.URIRef('https://w3id.org/peo#zs_prompting_1'), None)\n",
      "(rdflib.term.URIRef('https://w3id.org/peo#zs_3'), rdflib.term.URIRef('https://w3id.org/peo#zs_prompting_1'), None)\n",
      "(rdflib.term.URIRef('https://w3id.org/peo#zs_10'), rdflib.term.URIRef('https://w3id.org/peo#zs_prompting_4'), None)\n",
      "(rdflib.term.URIRef('https://w3id.org/peo#zs_11'), rdflib.term.URIRef('https://w3id.org/peo#zs_prompting_4'), None)\n",
      "(rdflib.term.URIRef('https://w3id.org/peo#zs_12'), rdflib.term.URIRef('https://w3id.org/peo#zs_prompting_4'), None)\n",
      "(rdflib.term.URIRef('https://w3id.org/peo#zs_4'), rdflib.term.URIRef('https://w3id.org/peo#zs_prompting_2'), None)\n",
      "(rdflib.term.URIRef('https://w3id.org/peo#zs_5'), rdflib.term.URIRef('https://w3id.org/peo#zs_prompting_2'), None)\n",
      "(rdflib.term.URIRef('https://w3id.org/peo#zs_6'), rdflib.term.URIRef('https://w3id.org/peo#zs_prompting_2'), None)\n",
      "(rdflib.term.URIRef('https://w3id.org/peo#zs_7'), rdflib.term.URIRef('https://w3id.org/peo#zs_prompting_3'), None)\n",
      "(rdflib.term.URIRef('https://w3id.org/peo#zs_8'), rdflib.term.URIRef('https://w3id.org/peo#zs_prompting_3'), None)\n",
      "(rdflib.term.URIRef('https://w3id.org/peo#zs_9'), rdflib.term.URIRef('https://w3id.org/peo#zs_prompting_3'), None)\n"
     ]
    }
   ],
   "source": [
    "cq7 = \"\"\"\n",
    "SELECT DISTINCT ?prompt ?technique ?techniqueLabel\n",
    "WHERE {\n",
    "    ?prompt <https://w3id.org/peo#prompt_generated_using> ?technique .\n",
    "    OPTIONAL { ?technique rdfs:label ?techniqueLabel . }\n",
    "}\n",
    "\"\"\"\n",
    "\n",
    "results_cq7 = execute_query(cq7)\n",
    "print_results(results_cq7)"
   ]
  },
  {
   "cell_type": "markdown",
   "id": "32dc46b6-74e2-4e5c-adc0-02883ae47fbd",
   "metadata": {},
   "source": [
    "## CQ8: What are responses of each prompt?"
   ]
  },
  {
   "cell_type": "code",
   "execution_count": 16,
   "id": "e4a99ab3-b725-4c66-a37f-bf77be9a9751",
   "metadata": {},
   "outputs": [
    {
     "name": "stdout",
     "output_type": "stream",
     "text": [
      "(rdflib.term.URIRef('https://w3id.org/peo#zs_3'), rdflib.term.URIRef('https://w3id.org/peo#gemini_rs1'))\n",
      "(rdflib.term.URIRef('https://w3id.org/peo#an_6'), rdflib.term.URIRef('https://w3id.org/peo#gemini_rs10'))\n",
      "(rdflib.term.URIRef('https://w3id.org/peo#zs_9'), rdflib.term.URIRef('https://w3id.org/peo#gemini_rs11'))\n",
      "(rdflib.term.URIRef('https://w3id.org/peo#fs_9'), rdflib.term.URIRef('https://w3id.org/peo#gemini_rs12'))\n",
      "(rdflib.term.URIRef('https://w3id.org/peo#em_9'), rdflib.term.URIRef('https://w3id.org/peo#gemini_rs13'))\n",
      "(rdflib.term.URIRef('https://w3id.org/peo#ro_9'), rdflib.term.URIRef('https://w3id.org/peo#gemini_rs14'))\n",
      "(rdflib.term.URIRef('https://w3id.org/peo#an_9'), rdflib.term.URIRef('https://w3id.org/peo#gemini_rs15'))\n",
      "(rdflib.term.URIRef('https://w3id.org/peo#zs_12'), rdflib.term.URIRef('https://w3id.org/peo#gemini_rs16'))\n",
      "(rdflib.term.URIRef('https://w3id.org/peo#fs_12'), rdflib.term.URIRef('https://w3id.org/peo#gemini_rs17'))\n",
      "(rdflib.term.URIRef('https://w3id.org/peo#em_12'), rdflib.term.URIRef('https://w3id.org/peo#gemini_rs18'))\n",
      "(rdflib.term.URIRef('https://w3id.org/peo#ro_12'), rdflib.term.URIRef('https://w3id.org/peo#gemini_rs19'))\n",
      "(rdflib.term.URIRef('https://w3id.org/peo#fs_3'), rdflib.term.URIRef('https://w3id.org/peo#gemini_rs2'))\n",
      "(rdflib.term.URIRef('https://w3id.org/peo#an_12'), rdflib.term.URIRef('https://w3id.org/peo#gemini_rs20'))\n",
      "(rdflib.term.URIRef('https://w3id.org/peo#em_3'), rdflib.term.URIRef('https://w3id.org/peo#gemini_rs3'))\n",
      "(rdflib.term.URIRef('https://w3id.org/peo#ro_3'), rdflib.term.URIRef('https://w3id.org/peo#gemini_rs4'))\n",
      "(rdflib.term.URIRef('https://w3id.org/peo#an_3'), rdflib.term.URIRef('https://w3id.org/peo#gemini_rs5'))\n",
      "(rdflib.term.URIRef('https://w3id.org/peo#zs_6'), rdflib.term.URIRef('https://w3id.org/peo#gemini_rs6'))\n",
      "(rdflib.term.URIRef('https://w3id.org/peo#fs_6'), rdflib.term.URIRef('https://w3id.org/peo#gemini_rs7'))\n",
      "(rdflib.term.URIRef('https://w3id.org/peo#em_6'), rdflib.term.URIRef('https://w3id.org/peo#gemini_rs8'))\n",
      "(rdflib.term.URIRef('https://w3id.org/peo#ro_6'), rdflib.term.URIRef('https://w3id.org/peo#gemini_rs9'))\n",
      "(rdflib.term.URIRef('https://w3id.org/peo#zs_1'), rdflib.term.URIRef('https://w3id.org/peo#gpt4_rs1'))\n",
      "(rdflib.term.URIRef('https://w3id.org/peo#an_4'), rdflib.term.URIRef('https://w3id.org/peo#gpt4_rs10'))\n",
      "(rdflib.term.URIRef('https://w3id.org/peo#zs_7'), rdflib.term.URIRef('https://w3id.org/peo#gpt4_rs11'))\n",
      "(rdflib.term.URIRef('https://w3id.org/peo#fs_7'), rdflib.term.URIRef('https://w3id.org/peo#gpt4_rs12'))\n",
      "(rdflib.term.URIRef('https://w3id.org/peo#em_7'), rdflib.term.URIRef('https://w3id.org/peo#gpt4_rs13'))\n",
      "(rdflib.term.URIRef('https://w3id.org/peo#ro_7'), rdflib.term.URIRef('https://w3id.org/peo#gpt4_rs14'))\n",
      "(rdflib.term.URIRef('https://w3id.org/peo#an_7'), rdflib.term.URIRef('https://w3id.org/peo#gpt4_rs15'))\n",
      "(rdflib.term.URIRef('https://w3id.org/peo#zs_10'), rdflib.term.URIRef('https://w3id.org/peo#gpt4_rs16'))\n",
      "(rdflib.term.URIRef('https://w3id.org/peo#fs_10'), rdflib.term.URIRef('https://w3id.org/peo#gpt4_rs17'))\n",
      "(rdflib.term.URIRef('https://w3id.org/peo#em_10'), rdflib.term.URIRef('https://w3id.org/peo#gpt4_rs18'))\n",
      "(rdflib.term.URIRef('https://w3id.org/peo#ro_10'), rdflib.term.URIRef('https://w3id.org/peo#gpt4_rs19'))\n",
      "(rdflib.term.URIRef('https://w3id.org/peo#fs_1'), rdflib.term.URIRef('https://w3id.org/peo#gpt4_rs2'))\n",
      "(rdflib.term.URIRef('https://w3id.org/peo#an_10'), rdflib.term.URIRef('https://w3id.org/peo#gpt4_rs20'))\n",
      "(rdflib.term.URIRef('https://w3id.org/peo#em_1'), rdflib.term.URIRef('https://w3id.org/peo#gpt4_rs3'))\n",
      "(rdflib.term.URIRef('https://w3id.org/peo#ro_1'), rdflib.term.URIRef('https://w3id.org/peo#gpt4_rs4'))\n",
      "(rdflib.term.URIRef('https://w3id.org/peo#an_1'), rdflib.term.URIRef('https://w3id.org/peo#gpt4_rs5'))\n",
      "(rdflib.term.URIRef('https://w3id.org/peo#zs_4'), rdflib.term.URIRef('https://w3id.org/peo#gpt4_rs6'))\n",
      "(rdflib.term.URIRef('https://w3id.org/peo#fs_4'), rdflib.term.URIRef('https://w3id.org/peo#gpt4_rs7'))\n",
      "(rdflib.term.URIRef('https://w3id.org/peo#em_4'), rdflib.term.URIRef('https://w3id.org/peo#gpt4_rs8'))\n",
      "(rdflib.term.URIRef('https://w3id.org/peo#ro_4'), rdflib.term.URIRef('https://w3id.org/peo#gpt4_rs9'))\n",
      "(rdflib.term.URIRef('https://w3id.org/peo#zs_2'), rdflib.term.URIRef('https://w3id.org/peo#mistral7b_rs1'))\n",
      "(rdflib.term.URIRef('https://w3id.org/peo#an_5'), rdflib.term.URIRef('https://w3id.org/peo#mistral7b_rs10'))\n",
      "(rdflib.term.URIRef('https://w3id.org/peo#zs_8'), rdflib.term.URIRef('https://w3id.org/peo#mistral7b_rs11'))\n",
      "(rdflib.term.URIRef('https://w3id.org/peo#fs_8'), rdflib.term.URIRef('https://w3id.org/peo#mistral7b_rs12'))\n",
      "(rdflib.term.URIRef('https://w3id.org/peo#em_8'), rdflib.term.URIRef('https://w3id.org/peo#mistral7b_rs13'))\n",
      "(rdflib.term.URIRef('https://w3id.org/peo#ro_8'), rdflib.term.URIRef('https://w3id.org/peo#mistral7b_rs14'))\n",
      "(rdflib.term.URIRef('https://w3id.org/peo#an_8'), rdflib.term.URIRef('https://w3id.org/peo#mistral7b_rs15'))\n",
      "(rdflib.term.URIRef('https://w3id.org/peo#zs_11'), rdflib.term.URIRef('https://w3id.org/peo#mistral7b_rs16'))\n",
      "(rdflib.term.URIRef('https://w3id.org/peo#fs_11'), rdflib.term.URIRef('https://w3id.org/peo#mistral7b_rs17'))\n",
      "(rdflib.term.URIRef('https://w3id.org/peo#em_11'), rdflib.term.URIRef('https://w3id.org/peo#mistral7b_rs18'))\n",
      "(rdflib.term.URIRef('https://w3id.org/peo#ro_11'), rdflib.term.URIRef('https://w3id.org/peo#mistral7b_rs19'))\n",
      "(rdflib.term.URIRef('https://w3id.org/peo#fs_2'), rdflib.term.URIRef('https://w3id.org/peo#mistral7b_rs2'))\n",
      "(rdflib.term.URIRef('https://w3id.org/peo#an_11'), rdflib.term.URIRef('https://w3id.org/peo#mistral7b_rs20'))\n",
      "(rdflib.term.URIRef('https://w3id.org/peo#em_2'), rdflib.term.URIRef('https://w3id.org/peo#mistral7b_rs3'))\n",
      "(rdflib.term.URIRef('https://w3id.org/peo#ro_2'), rdflib.term.URIRef('https://w3id.org/peo#mistral7b_rs4'))\n",
      "(rdflib.term.URIRef('https://w3id.org/peo#an_2'), rdflib.term.URIRef('https://w3id.org/peo#mistral7b_rs5'))\n",
      "(rdflib.term.URIRef('https://w3id.org/peo#zs_5'), rdflib.term.URIRef('https://w3id.org/peo#mistral7b_rs6'))\n",
      "(rdflib.term.URIRef('https://w3id.org/peo#fs_5'), rdflib.term.URIRef('https://w3id.org/peo#mistral7b_rs7'))\n",
      "(rdflib.term.URIRef('https://w3id.org/peo#em_5'), rdflib.term.URIRef('https://w3id.org/peo#mistral7b_rs8'))\n",
      "(rdflib.term.URIRef('https://w3id.org/peo#ro_5'), rdflib.term.URIRef('https://w3id.org/peo#mistral7b_rs9'))\n"
     ]
    }
   ],
   "source": [
    "cq8 = \"\"\"\n",
    "SELECT DISTINCT ?prompt ?response\n",
    "WHERE {\n",
    "    ?response <https://w3id.org/peo#response_followedby_prompt> ?prompt .\n",
    "}\n",
    "\"\"\"\n",
    "\n",
    "results_cq8 = execute_query(cq8)\n",
    "print_results(results_cq8)"
   ]
  },
  {
   "cell_type": "markdown",
   "id": "681f353d-a7db-4f10-b3c3-8966d387d553",
   "metadata": {},
   "source": [
    "## CQ9: What are possible tasks?"
   ]
  },
  {
   "cell_type": "code",
   "execution_count": 17,
   "id": "92fbfa08-30c8-44fc-96fc-78a391c863e2",
   "metadata": {},
   "outputs": [
    {
     "name": "stdout",
     "output_type": "stream",
     "text": [
      "(rdflib.term.URIRef('https://w3id.org/peo#task'), rdflib.term.Literal('Task'))\n",
      "(rdflib.term.URIRef('https://w3id.org/peo#audio_task'), rdflib.term.Literal('Audio task'))\n",
      "(rdflib.term.URIRef('https://w3id.org/peo#audio_explanation'), rdflib.term.Literal('Audio explanation'))\n",
      "(rdflib.term.URIRef('https://w3id.org/peo#audio_generation'), rdflib.term.Literal('Audio generation'))\n",
      "(rdflib.term.URIRef('https://w3id.org/peo#code_task'), rdflib.term.Literal('Code task'))\n",
      "(rdflib.term.URIRef('https://w3id.org/peo#code_explanation'), rdflib.term.Literal('Code explanation'))\n",
      "(rdflib.term.URIRef('https://w3id.org/peo#code_generation'), rdflib.term.Literal('Code generation'))\n",
      "(rdflib.term.URIRef('https://w3id.org/peo#image_task'), rdflib.term.Literal('Image task'))\n",
      "(rdflib.term.URIRef('https://w3id.org/peo#image_explanation'), rdflib.term.Literal('Image explanation'))\n",
      "(rdflib.term.URIRef('https://w3id.org/peo#image_generation'), rdflib.term.Literal('Image generation'))\n",
      "(rdflib.term.URIRef('https://w3id.org/peo#image_segmentation'), rdflib.term.Literal('Image segmentation'))\n",
      "(rdflib.term.URIRef('https://w3id.org/peo#text_task'), rdflib.term.Literal('Text task'))\n",
      "(rdflib.term.URIRef('https://w3id.org/peo#emotion_classification'), rdflib.term.Literal('Emotion classification'))\n",
      "(rdflib.term.URIRef('https://w3id.org/peo#mathematical_understanding'), rdflib.term.Literal('Mathematical understanding'))\n",
      "(rdflib.term.URIRef('https://w3id.org/peo#question_answering'), rdflib.term.Literal('Question-answering'))\n",
      "(rdflib.term.URIRef('https://w3id.org/peo#text_explanation'), rdflib.term.Literal('Text explanation'))\n",
      "(rdflib.term.URIRef('https://w3id.org/peo#text_generation'), rdflib.term.Literal('Text generation'))\n",
      "(rdflib.term.URIRef('https://w3id.org/peo#text_summarization'), rdflib.term.Literal('Text summarization'))\n",
      "(rdflib.term.URIRef('https://w3id.org/peo#text_translation'), rdflib.term.Literal('Text translation'))\n",
      "(rdflib.term.URIRef('https://w3id.org/peo#video_task'), rdflib.term.Literal('Video task'))\n",
      "(rdflib.term.URIRef('https://w3id.org/peo#video_explanation'), rdflib.term.Literal('Video explanation'))\n",
      "(rdflib.term.URIRef('https://w3id.org/peo#video_generation'), rdflib.term.Literal('Video generation'))\n"
     ]
    }
   ],
   "source": [
    "cq9 = \"\"\"\n",
    "SELECT DISTINCT ?task ?label\n",
    "WHERE {\n",
    "    ?task rdf:type owl:Class .\n",
    "    ?task rdfs:subClassOf* <https://w3id.org/peo#task> .\n",
    "    OPTIONAL { ?task rdfs:label ?label . }\n",
    "}\n",
    "\"\"\"\n",
    "\n",
    "results_cq9 = execute_query(cq9)\n",
    "print_results(results_cq9)"
   ]
  },
  {
   "cell_type": "markdown",
   "id": "4a8ebfc8-9503-4ca7-9ab5-71d28a1cf3a4",
   "metadata": {},
   "source": [
    "## CQ10: Which tasks are related to the text?"
   ]
  },
  {
   "cell_type": "code",
   "execution_count": 18,
   "id": "42ba8e7a-1321-4ad2-bb06-230703a28040",
   "metadata": {},
   "outputs": [
    {
     "name": "stdout",
     "output_type": "stream",
     "text": [
      "(rdflib.term.URIRef('https://w3id.org/peo#text_task'), rdflib.term.Literal('Text task'))\n",
      "(rdflib.term.URIRef('https://w3id.org/peo#emotion_classification'), rdflib.term.Literal('Emotion classification'))\n",
      "(rdflib.term.URIRef('https://w3id.org/peo#mathematical_understanding'), rdflib.term.Literal('Mathematical understanding'))\n",
      "(rdflib.term.URIRef('https://w3id.org/peo#question_answering'), rdflib.term.Literal('Question-answering'))\n",
      "(rdflib.term.URIRef('https://w3id.org/peo#text_explanation'), rdflib.term.Literal('Text explanation'))\n",
      "(rdflib.term.URIRef('https://w3id.org/peo#text_generation'), rdflib.term.Literal('Text generation'))\n",
      "(rdflib.term.URIRef('https://w3id.org/peo#text_summarization'), rdflib.term.Literal('Text summarization'))\n",
      "(rdflib.term.URIRef('https://w3id.org/peo#text_translation'), rdflib.term.Literal('Text translation'))\n"
     ]
    }
   ],
   "source": [
    "cq10 = \"\"\"\n",
    "SELECT DISTINCT ?task ?label\n",
    "WHERE {\n",
    "    ?task rdf:type owl:Class .\n",
    "    ?task rdfs:subClassOf* <https://w3id.org/peo#text_task> .\n",
    "    OPTIONAL { ?task rdfs:label ?label . }\n",
    "}\n",
    "\"\"\"\n",
    "\n",
    "results_cq10 = execute_query(cq10)\n",
    "print_results(results_cq10)"
   ]
  },
  {
   "cell_type": "markdown",
   "id": "f9c86f57-1fda-4306-a7dc-4e512220f508",
   "metadata": {},
   "source": [
    "## CQ11: What chats does each large language model have?"
   ]
  },
  {
   "cell_type": "code",
   "execution_count": 19,
   "id": "7bfa5eaf-a76d-4a30-9712-32545efca982",
   "metadata": {},
   "outputs": [
    {
     "name": "stdout",
     "output_type": "stream",
     "text": [
      "(rdflib.term.URIRef('https://w3id.org/peo#Gemini_Flash'), rdflib.term.URIRef('https://w3id.org/peo#gemini_chat_1'))\n",
      "(rdflib.term.URIRef('https://w3id.org/peo#Gemini_Flash'), rdflib.term.URIRef('https://w3id.org/peo#gemini_chat_10'))\n",
      "(rdflib.term.URIRef('https://w3id.org/peo#Gemini_Flash'), rdflib.term.URIRef('https://w3id.org/peo#gemini_chat_11'))\n",
      "(rdflib.term.URIRef('https://w3id.org/peo#Gemini_Flash'), rdflib.term.URIRef('https://w3id.org/peo#gemini_chat_12'))\n",
      "(rdflib.term.URIRef('https://w3id.org/peo#Gemini_Flash'), rdflib.term.URIRef('https://w3id.org/peo#gemini_chat_13'))\n",
      "(rdflib.term.URIRef('https://w3id.org/peo#Gemini_Flash'), rdflib.term.URIRef('https://w3id.org/peo#gemini_chat_14'))\n",
      "(rdflib.term.URIRef('https://w3id.org/peo#Gemini_Flash'), rdflib.term.URIRef('https://w3id.org/peo#gemini_chat_15'))\n",
      "(rdflib.term.URIRef('https://w3id.org/peo#Gemini_Flash'), rdflib.term.URIRef('https://w3id.org/peo#gemini_chat_16'))\n",
      "(rdflib.term.URIRef('https://w3id.org/peo#Gemini_Flash'), rdflib.term.URIRef('https://w3id.org/peo#gemini_chat_17'))\n",
      "(rdflib.term.URIRef('https://w3id.org/peo#Gemini_Flash'), rdflib.term.URIRef('https://w3id.org/peo#gemini_chat_18'))\n",
      "(rdflib.term.URIRef('https://w3id.org/peo#Gemini_Flash'), rdflib.term.URIRef('https://w3id.org/peo#gemini_chat_19'))\n",
      "(rdflib.term.URIRef('https://w3id.org/peo#Gemini_Flash'), rdflib.term.URIRef('https://w3id.org/peo#gemini_chat_2'))\n",
      "(rdflib.term.URIRef('https://w3id.org/peo#Gemini_Flash'), rdflib.term.URIRef('https://w3id.org/peo#gemini_chat_20'))\n",
      "(rdflib.term.URIRef('https://w3id.org/peo#Gemini_Flash'), rdflib.term.URIRef('https://w3id.org/peo#gemini_chat_3'))\n",
      "(rdflib.term.URIRef('https://w3id.org/peo#Gemini_Flash'), rdflib.term.URIRef('https://w3id.org/peo#gemini_chat_4'))\n",
      "(rdflib.term.URIRef('https://w3id.org/peo#Gemini_Flash'), rdflib.term.URIRef('https://w3id.org/peo#gemini_chat_5'))\n",
      "(rdflib.term.URIRef('https://w3id.org/peo#Gemini_Flash'), rdflib.term.URIRef('https://w3id.org/peo#gemini_chat_6'))\n",
      "(rdflib.term.URIRef('https://w3id.org/peo#Gemini_Flash'), rdflib.term.URIRef('https://w3id.org/peo#gemini_chat_7'))\n",
      "(rdflib.term.URIRef('https://w3id.org/peo#Gemini_Flash'), rdflib.term.URIRef('https://w3id.org/peo#gemini_chat_8'))\n",
      "(rdflib.term.URIRef('https://w3id.org/peo#Gemini_Flash'), rdflib.term.URIRef('https://w3id.org/peo#gemini_chat_9'))\n",
      "(rdflib.term.URIRef('https://w3id.org/peo#GPT-4'), rdflib.term.URIRef('https://w3id.org/peo#gpt4_chat_1'))\n",
      "(rdflib.term.URIRef('https://w3id.org/peo#GPT-4'), rdflib.term.URIRef('https://w3id.org/peo#gpt4_chat_10'))\n",
      "(rdflib.term.URIRef('https://w3id.org/peo#GPT-4'), rdflib.term.URIRef('https://w3id.org/peo#gpt4_chat_11'))\n",
      "(rdflib.term.URIRef('https://w3id.org/peo#GPT-4'), rdflib.term.URIRef('https://w3id.org/peo#gpt4_chat_12'))\n",
      "(rdflib.term.URIRef('https://w3id.org/peo#GPT-4'), rdflib.term.URIRef('https://w3id.org/peo#gpt4_chat_13'))\n",
      "(rdflib.term.URIRef('https://w3id.org/peo#GPT-4'), rdflib.term.URIRef('https://w3id.org/peo#gpt4_chat_14'))\n",
      "(rdflib.term.URIRef('https://w3id.org/peo#GPT-4'), rdflib.term.URIRef('https://w3id.org/peo#gpt4_chat_15'))\n",
      "(rdflib.term.URIRef('https://w3id.org/peo#GPT-4'), rdflib.term.URIRef('https://w3id.org/peo#gpt4_chat_16'))\n",
      "(rdflib.term.URIRef('https://w3id.org/peo#GPT-4'), rdflib.term.URIRef('https://w3id.org/peo#gpt4_chat_17'))\n",
      "(rdflib.term.URIRef('https://w3id.org/peo#GPT-4'), rdflib.term.URIRef('https://w3id.org/peo#gpt4_chat_18'))\n",
      "(rdflib.term.URIRef('https://w3id.org/peo#GPT-4'), rdflib.term.URIRef('https://w3id.org/peo#gpt4_chat_19'))\n",
      "(rdflib.term.URIRef('https://w3id.org/peo#GPT-4'), rdflib.term.URIRef('https://w3id.org/peo#gpt4_chat_2'))\n",
      "(rdflib.term.URIRef('https://w3id.org/peo#GPT-4'), rdflib.term.URIRef('https://w3id.org/peo#gpt4_chat_20'))\n",
      "(rdflib.term.URIRef('https://w3id.org/peo#GPT-4'), rdflib.term.URIRef('https://w3id.org/peo#gpt4_chat_3'))\n",
      "(rdflib.term.URIRef('https://w3id.org/peo#GPT-4'), rdflib.term.URIRef('https://w3id.org/peo#gpt4_chat_4'))\n",
      "(rdflib.term.URIRef('https://w3id.org/peo#GPT-4'), rdflib.term.URIRef('https://w3id.org/peo#gpt4_chat_5'))\n",
      "(rdflib.term.URIRef('https://w3id.org/peo#GPT-4'), rdflib.term.URIRef('https://w3id.org/peo#gpt4_chat_6'))\n",
      "(rdflib.term.URIRef('https://w3id.org/peo#GPT-4'), rdflib.term.URIRef('https://w3id.org/peo#gpt4_chat_7'))\n",
      "(rdflib.term.URIRef('https://w3id.org/peo#GPT-4'), rdflib.term.URIRef('https://w3id.org/peo#gpt4_chat_8'))\n",
      "(rdflib.term.URIRef('https://w3id.org/peo#GPT-4'), rdflib.term.URIRef('https://w3id.org/peo#gpt4_chat_9'))\n",
      "(rdflib.term.URIRef('https://w3id.org/peo#Mistral_7B'), rdflib.term.URIRef('https://w3id.org/peo#mistral7b_chat_1'))\n",
      "(rdflib.term.URIRef('https://w3id.org/peo#Mistral_7B'), rdflib.term.URIRef('https://w3id.org/peo#mistral7b_chat_10'))\n",
      "(rdflib.term.URIRef('https://w3id.org/peo#Mistral_7B'), rdflib.term.URIRef('https://w3id.org/peo#mistral7b_chat_11'))\n",
      "(rdflib.term.URIRef('https://w3id.org/peo#Mistral_7B'), rdflib.term.URIRef('https://w3id.org/peo#mistral7b_chat_12'))\n",
      "(rdflib.term.URIRef('https://w3id.org/peo#Mistral_7B'), rdflib.term.URIRef('https://w3id.org/peo#mistral7b_chat_13'))\n",
      "(rdflib.term.URIRef('https://w3id.org/peo#Mistral_7B'), rdflib.term.URIRef('https://w3id.org/peo#mistral7b_chat_14'))\n",
      "(rdflib.term.URIRef('https://w3id.org/peo#Mistral_7B'), rdflib.term.URIRef('https://w3id.org/peo#mistral7b_chat_15'))\n",
      "(rdflib.term.URIRef('https://w3id.org/peo#Mistral_7B'), rdflib.term.URIRef('https://w3id.org/peo#mistral7b_chat_16'))\n",
      "(rdflib.term.URIRef('https://w3id.org/peo#Mistral_7B'), rdflib.term.URIRef('https://w3id.org/peo#mistral7b_chat_17'))\n",
      "(rdflib.term.URIRef('https://w3id.org/peo#Mistral_7B'), rdflib.term.URIRef('https://w3id.org/peo#mistral7b_chat_18'))\n",
      "(rdflib.term.URIRef('https://w3id.org/peo#Mistral_7B'), rdflib.term.URIRef('https://w3id.org/peo#mistral7b_chat_19'))\n",
      "(rdflib.term.URIRef('https://w3id.org/peo#Mistral_7B'), rdflib.term.URIRef('https://w3id.org/peo#mistral7b_chat_2'))\n",
      "(rdflib.term.URIRef('https://w3id.org/peo#Mistral_7B'), rdflib.term.URIRef('https://w3id.org/peo#mistral7b_chat_20'))\n",
      "(rdflib.term.URIRef('https://w3id.org/peo#Mistral_7B'), rdflib.term.URIRef('https://w3id.org/peo#mistral7b_chat_3'))\n",
      "(rdflib.term.URIRef('https://w3id.org/peo#Mistral_7B'), rdflib.term.URIRef('https://w3id.org/peo#mistral7b_chat_4'))\n",
      "(rdflib.term.URIRef('https://w3id.org/peo#Mistral_7B'), rdflib.term.URIRef('https://w3id.org/peo#mistral7b_chat_5'))\n",
      "(rdflib.term.URIRef('https://w3id.org/peo#Mistral_7B'), rdflib.term.URIRef('https://w3id.org/peo#mistral7b_chat_6'))\n",
      "(rdflib.term.URIRef('https://w3id.org/peo#Mistral_7B'), rdflib.term.URIRef('https://w3id.org/peo#mistral7b_chat_7'))\n",
      "(rdflib.term.URIRef('https://w3id.org/peo#Mistral_7B'), rdflib.term.URIRef('https://w3id.org/peo#mistral7b_chat_8'))\n",
      "(rdflib.term.URIRef('https://w3id.org/peo#Mistral_7B'), rdflib.term.URIRef('https://w3id.org/peo#mistral7b_chat_9'))\n"
     ]
    }
   ],
   "source": [
    "cq11 = \"\"\"\n",
    "SELECT DISTINCT ?llm ?chat\n",
    "WHERE {\n",
    "    ?chat <https://w3id.org/peo#uses_model> ?llm .\n",
    "    OPTIONAL { ?llm rdfs:label ?llmLabel . }\n",
    "    OPTIONAL { ?chat rdfs:label ?chatLabel . }\n",
    "}\n",
    "\"\"\"\n",
    "\n",
    "results_cq11 = execute_query(cq11)\n",
    "print_results(results_cq11)"
   ]
  },
  {
   "cell_type": "markdown",
   "id": "d13d1068-23dd-4f67-ae76-e362c1c7b856",
   "metadata": {},
   "source": [
    "## CQ12: What is a large language model?"
   ]
  },
  {
   "cell_type": "code",
   "execution_count": 20,
   "id": "37de12b0-7ddb-4eca-a568-a8302ff77483",
   "metadata": {},
   "outputs": [
    {
     "name": "stdout",
     "output_type": "stream",
     "text": [
      "(rdflib.term.URIRef('http://www.w3.org/1999/02/22-rdf-syntax-ns#type'), rdflib.term.URIRef('http://www.w3.org/2002/07/owl#Class'))\n",
      "(rdflib.term.URIRef('http://www.w3.org/2000/01/rdf-schema#label'), rdflib.term.Literal('Large Language Model'))\n",
      "(rdflib.term.URIRef('https://w3id.org/peo#description'), rdflib.term.Literal('Type of computational model designed for natural language processing tasks such as language generation.'))\n",
      "(rdflib.term.URIRef('https://w3id.org/peo#reference'), rdflib.term.Literal('https://en.wikipedia.org/wiki/Large_language_model'))\n"
     ]
    }
   ],
   "source": [
    "cq12 = \"\"\"\n",
    "SELECT DISTINCT ?property ?value\n",
    "WHERE {\n",
    "    <https://w3id.org/peo#large_language_model> ?property ?value .\n",
    "}\n",
    "\"\"\"\n",
    "\n",
    "results_cq12 = execute_query(cq12)\n",
    "print_results(results_cq12)"
   ]
  },
  {
   "cell_type": "markdown",
   "id": "2d72b38a-7637-495d-891b-60fdf2052bcf",
   "metadata": {},
   "source": [
    "## CQ13: What types of large language models are available?"
   ]
  },
  {
   "cell_type": "code",
   "execution_count": 21,
   "id": "dbbc9a5d-8b78-48c8-9aca-f96f7ef73389",
   "metadata": {},
   "outputs": [
    {
     "name": "stdout",
     "output_type": "stream",
     "text": [
      "(rdflib.term.URIRef('https://w3id.org/peo#alpaca'), rdflib.term.Literal('Alpaca'))\n",
      "(rdflib.term.URIRef('https://w3id.org/peo#bert'), rdflib.term.Literal('BERT'))\n",
      "(rdflib.term.URIRef('https://w3id.org/peo#blip-2'), rdflib.term.Literal('BLIP-2'))\n",
      "(rdflib.term.URIRef('https://w3id.org/peo#bloom'), rdflib.term.Literal('BLOOM'))\n",
      "(rdflib.term.URIRef('https://w3id.org/peo#chinchilla'), rdflib.term.Literal('Chinchilla'))\n",
      "(rdflib.term.URIRef('https://w3id.org/peo#claude'), rdflib.term.Literal('Claude'))\n",
      "(rdflib.term.URIRef('https://w3id.org/peo#cogvlm'), rdflib.term.Literal('CogVLM'))\n",
      "(rdflib.term.URIRef('https://w3id.org/peo#command_r'), rdflib.term.Literal('Command R'))\n",
      "(rdflib.term.URIRef('https://w3id.org/peo#dall-e'), rdflib.term.Literal('DALL-E'))\n",
      "(rdflib.term.URIRef('https://w3id.org/peo#falcon'), rdflib.term.Literal('Falcon'))\n",
      "(rdflib.term.URIRef('https://w3id.org/peo#flan'), rdflib.term.Literal('FLAN'))\n",
      "(rdflib.term.URIRef('https://w3id.org/peo#gemini'), rdflib.term.Literal('Gemini'))\n",
      "(rdflib.term.URIRef('https://w3id.org/peo#gemma'), rdflib.term.Literal('Gemma'))\n",
      "(rdflib.term.URIRef('https://w3id.org/peo#glamm'), rdflib.term.Literal('GLaMM'))\n",
      "(rdflib.term.URIRef('https://w3id.org/peo#gpt'), rdflib.term.Literal('GPT'))\n",
      "(rdflib.term.URIRef('https://w3id.org/peo#llama'), rdflib.term.Literal('LLaMA'))\n",
      "(rdflib.term.URIRef('https://w3id.org/peo#midjourney'), rdflib.term.Literal('Midjourney'))\n",
      "(rdflib.term.URIRef('https://w3id.org/peo#minerva'), rdflib.term.Literal('Minerva'))\n",
      "(rdflib.term.URIRef('https://w3id.org/peo#mistral'), rdflib.term.Literal('Mistral'))\n",
      "(rdflib.term.URIRef('https://w3id.org/peo#mpt-7b'), rdflib.term.Literal('MPT-7B'))\n",
      "(rdflib.term.URIRef('https://w3id.org/peo#olmo'), rdflib.term.Literal('OLMo'))\n",
      "(rdflib.term.URIRef('https://w3id.org/peo#openelm'), rdflib.term.Literal('OpenELM'))\n",
      "(rdflib.term.URIRef('https://w3id.org/peo#opt'), rdflib.term.Literal('OPT'))\n",
      "(rdflib.term.URIRef('https://w3id.org/peo#palm'), rdflib.term.Literal('PaLM'))\n",
      "(rdflib.term.URIRef('https://w3id.org/peo#phi-1'), rdflib.term.Literal('Phi-1'))\n",
      "(rdflib.term.URIRef('https://w3id.org/peo#rwkv_llm'), rdflib.term.Literal('RWKV LLM'))\n",
      "(rdflib.term.URIRef('https://w3id.org/peo#sora'), rdflib.term.Literal('Sora'))\n",
      "(rdflib.term.URIRef('https://w3id.org/peo#stablelm'), rdflib.term.Literal('StableLM'))\n",
      "(rdflib.term.URIRef('https://w3id.org/peo#starcoder'), rdflib.term.Literal('StarCoder'))\n",
      "(rdflib.term.URIRef('https://w3id.org/peo#t5'), rdflib.term.Literal('T5'))\n",
      "(rdflib.term.URIRef('https://w3id.org/peo#vall-e'), rdflib.term.Literal('VALL-E'))\n",
      "(rdflib.term.URIRef('https://w3id.org/peo#vicuna'), rdflib.term.Literal('Vicuna'))\n",
      "(rdflib.term.URIRef('https://w3id.org/peo#xlnet'), rdflib.term.Literal('XLNet'))\n"
     ]
    }
   ],
   "source": [
    "cq13 = \"\"\"\n",
    "SELECT DISTINCT ?type ?label\n",
    "WHERE {\n",
    "    ?type rdfs:subClassOf <https://w3id.org/peo#large_language_model> .\n",
    "    OPTIONAL { ?type rdfs:label ?label . }\n",
    "}\n",
    "\"\"\"\n",
    "\n",
    "results_cq13 = execute_query(cq13)\n",
    "print_results(results_cq13)"
   ]
  },
  {
   "cell_type": "markdown",
   "id": "badc1124-7b10-460c-a9fe-5dc85b215f28",
   "metadata": {},
   "source": [
    "## CQ14: What are the available versions of each large language model?"
   ]
  },
  {
   "cell_type": "code",
   "execution_count": 22,
   "id": "f4377ddc-eba5-4a50-8614-fd64c832aae2",
   "metadata": {},
   "outputs": [
    {
     "name": "stdout",
     "output_type": "stream",
     "text": [
      "(rdflib.term.URIRef('https://w3id.org/peo#alpaca'), rdflib.term.Literal('Alpaca'), rdflib.term.URIRef('https://w3id.org/peo#alpaca_7B'), None)\n",
      "(rdflib.term.URIRef('https://w3id.org/peo#bert'), rdflib.term.Literal('BERT'), rdflib.term.URIRef('https://w3id.org/peo#BERT_base'), None)\n",
      "(rdflib.term.URIRef('https://w3id.org/peo#bert'), rdflib.term.Literal('BERT'), rdflib.term.URIRef('https://w3id.org/peo#BERT_large'), None)\n",
      "(rdflib.term.URIRef('https://w3id.org/peo#bert'), rdflib.term.Literal('BERT'), rdflib.term.URIRef('https://w3id.org/peo#RoBERTa'), None)\n",
      "(rdflib.term.URIRef('https://w3id.org/peo#bert'), rdflib.term.Literal('BERT'), rdflib.term.URIRef('https://w3id.org/peo#VisualBERT'), None)\n",
      "(rdflib.term.URIRef('https://w3id.org/peo#blip-2'), rdflib.term.Literal('BLIP-2'), rdflib.term.URIRef('https://w3id.org/peo#blip-image-captioning-base'), None)\n",
      "(rdflib.term.URIRef('https://w3id.org/peo#blip-2'), rdflib.term.Literal('BLIP-2'), rdflib.term.URIRef('https://w3id.org/peo#blip-image-captioning-large'), None)\n",
      "(rdflib.term.URIRef('https://w3id.org/peo#blip-2'), rdflib.term.Literal('BLIP-2'), rdflib.term.URIRef('https://w3id.org/peo#blip-itm-base-coco'), None)\n",
      "(rdflib.term.URIRef('https://w3id.org/peo#blip-2'), rdflib.term.Literal('BLIP-2'), rdflib.term.URIRef('https://w3id.org/peo#blip-itm-base-flickr'), None)\n",
      "(rdflib.term.URIRef('https://w3id.org/peo#blip-2'), rdflib.term.Literal('BLIP-2'), rdflib.term.URIRef('https://w3id.org/peo#blip-itm-large-coco'), None)\n",
      "(rdflib.term.URIRef('https://w3id.org/peo#blip-2'), rdflib.term.Literal('BLIP-2'), rdflib.term.URIRef('https://w3id.org/peo#blip-itm-large-flickr'), None)\n",
      "(rdflib.term.URIRef('https://w3id.org/peo#blip-2'), rdflib.term.Literal('BLIP-2'), rdflib.term.URIRef('https://w3id.org/peo#blip-vqa-base'), None)\n",
      "(rdflib.term.URIRef('https://w3id.org/peo#blip-2'), rdflib.term.Literal('BLIP-2'), rdflib.term.URIRef('https://w3id.org/peo#blip-vqa-capfilt-large'), None)\n",
      "(rdflib.term.URIRef('https://w3id.org/peo#bloom'), rdflib.term.Literal('BLOOM'), rdflib.term.URIRef('https://w3id.org/peo#BLOOMZ&mT0'), None)\n",
      "(rdflib.term.URIRef('https://w3id.org/peo#chinchilla'), rdflib.term.Literal('Chinchilla'), rdflib.term.URIRef('https://w3id.org/peo#Chinchilla_70B'), None)\n",
      "(rdflib.term.URIRef('https://w3id.org/peo#claude'), rdflib.term.Literal('Claude'), rdflib.term.URIRef('https://w3id.org/peo#Claude_1.2'), None)\n",
      "(rdflib.term.URIRef('https://w3id.org/peo#claude'), rdflib.term.Literal('Claude'), rdflib.term.URIRef('https://w3id.org/peo#Claude_2'), None)\n",
      "(rdflib.term.URIRef('https://w3id.org/peo#claude'), rdflib.term.Literal('Claude'), rdflib.term.URIRef('https://w3id.org/peo#Claude_3'), None)\n",
      "(rdflib.term.URIRef('https://w3id.org/peo#cogvlm'), rdflib.term.Literal('CogVLM'), rdflib.term.URIRef('https://w3id.org/peo#CogVLM2-19B'), None)\n",
      "(rdflib.term.URIRef('https://w3id.org/peo#command_r'), rdflib.term.Literal('Command R'), rdflib.term.URIRef('https://w3id.org/peo#Command_R'), None)\n",
      "(rdflib.term.URIRef('https://w3id.org/peo#command_r'), rdflib.term.Literal('Command R'), rdflib.term.URIRef('https://w3id.org/peo#Command_R+'), None)\n",
      "(rdflib.term.URIRef('https://w3id.org/peo#dall-e'), rdflib.term.Literal('DALL-E'), rdflib.term.URIRef('https://w3id.org/peo#DALL-E_1'), None)\n",
      "(rdflib.term.URIRef('https://w3id.org/peo#dall-e'), rdflib.term.Literal('DALL-E'), rdflib.term.URIRef('https://w3id.org/peo#DALL-E_2'), None)\n",
      "(rdflib.term.URIRef('https://w3id.org/peo#dall-e'), rdflib.term.Literal('DALL-E'), rdflib.term.URIRef('https://w3id.org/peo#DALL-E_3'), None)\n",
      "(rdflib.term.URIRef('https://w3id.org/peo#falcon'), rdflib.term.Literal('Falcon'), rdflib.term.URIRef('https://w3id.org/peo#Falcon_180B'), None)\n",
      "(rdflib.term.URIRef('https://w3id.org/peo#falcon'), rdflib.term.Literal('Falcon'), rdflib.term.URIRef('https://w3id.org/peo#Falcon_2_11B'), None)\n",
      "(rdflib.term.URIRef('https://w3id.org/peo#falcon'), rdflib.term.Literal('Falcon'), rdflib.term.URIRef('https://w3id.org/peo#Falcon_40B'), None)\n",
      "(rdflib.term.URIRef('https://w3id.org/peo#falcon'), rdflib.term.Literal('Falcon'), rdflib.term.URIRef('https://w3id.org/peo#Falcon_7B'), None)\n",
      "(rdflib.term.URIRef('https://w3id.org/peo#falcon'), rdflib.term.Literal('Falcon'), rdflib.term.URIRef('https://w3id.org/peo#Falcon_Mamba_7B'), None)\n",
      "(rdflib.term.URIRef('https://w3id.org/peo#flan'), rdflib.term.Literal('FLAN'), rdflib.term.URIRef('https://w3id.org/peo#FLAN_T5_xxl'), None)\n",
      "(rdflib.term.URIRef('https://w3id.org/peo#gemini'), rdflib.term.Literal('Gemini'), rdflib.term.URIRef('https://w3id.org/peo#Gemini_Flash'), None)\n",
      "(rdflib.term.URIRef('https://w3id.org/peo#gemini'), rdflib.term.Literal('Gemini'), rdflib.term.URIRef('https://w3id.org/peo#Gemini_Nano'), None)\n",
      "(rdflib.term.URIRef('https://w3id.org/peo#gemini'), rdflib.term.Literal('Gemini'), rdflib.term.URIRef('https://w3id.org/peo#Gemini_Pro'), None)\n",
      "(rdflib.term.URIRef('https://w3id.org/peo#gemini'), rdflib.term.Literal('Gemini'), rdflib.term.URIRef('https://w3id.org/peo#Gemini_Ultra'), None)\n",
      "(rdflib.term.URIRef('https://w3id.org/peo#gemma'), rdflib.term.Literal('Gemma'), rdflib.term.URIRef('https://w3id.org/peo#gemma-1.1-2b-it'), None)\n",
      "(rdflib.term.URIRef('https://w3id.org/peo#gemma'), rdflib.term.Literal('Gemma'), rdflib.term.URIRef('https://w3id.org/peo#gemma-1.1-7b-it'), None)\n",
      "(rdflib.term.URIRef('https://w3id.org/peo#gemma'), rdflib.term.Literal('Gemma'), rdflib.term.URIRef('https://w3id.org/peo#gemma-2b'), None)\n",
      "(rdflib.term.URIRef('https://w3id.org/peo#gemma'), rdflib.term.Literal('Gemma'), rdflib.term.URIRef('https://w3id.org/peo#gemma-2b-it'), None)\n",
      "(rdflib.term.URIRef('https://w3id.org/peo#gemma'), rdflib.term.Literal('Gemma'), rdflib.term.URIRef('https://w3id.org/peo#gemma-7b'), None)\n",
      "(rdflib.term.URIRef('https://w3id.org/peo#gemma'), rdflib.term.Literal('Gemma'), rdflib.term.URIRef('https://w3id.org/peo#gemma-7b-it'), None)\n",
      "(rdflib.term.URIRef('https://w3id.org/peo#glamm'), rdflib.term.Literal('GLaMM'), rdflib.term.URIRef('https://w3id.org/peo#GLaMM_FT'), None)\n",
      "(rdflib.term.URIRef('https://w3id.org/peo#glamm'), rdflib.term.Literal('GLaMM'), rdflib.term.URIRef('https://w3id.org/peo#GLaMM_ZS'), None)\n",
      "(rdflib.term.URIRef('https://w3id.org/peo#gpt'), rdflib.term.Literal('GPT'), rdflib.term.URIRef('https://w3id.org/peo#GPT-1'), None)\n",
      "(rdflib.term.URIRef('https://w3id.org/peo#gpt'), rdflib.term.Literal('GPT'), rdflib.term.URIRef('https://w3id.org/peo#GPT-2'), None)\n",
      "(rdflib.term.URIRef('https://w3id.org/peo#gpt'), rdflib.term.Literal('GPT'), rdflib.term.URIRef('https://w3id.org/peo#GPT-3'), None)\n",
      "(rdflib.term.URIRef('https://w3id.org/peo#gpt'), rdflib.term.Literal('GPT'), rdflib.term.URIRef('https://w3id.org/peo#GPT-3.5'), None)\n",
      "(rdflib.term.URIRef('https://w3id.org/peo#gpt'), rdflib.term.Literal('GPT'), rdflib.term.URIRef('https://w3id.org/peo#GPT-4'), None)\n",
      "(rdflib.term.URIRef('https://w3id.org/peo#llama'), rdflib.term.Literal('LLaMA'), rdflib.term.URIRef('https://w3id.org/peo#Code_LLAMA'), None)\n",
      "(rdflib.term.URIRef('https://w3id.org/peo#llama'), rdflib.term.Literal('LLaMA'), rdflib.term.URIRef('https://w3id.org/peo#LLAMA_1'), None)\n",
      "(rdflib.term.URIRef('https://w3id.org/peo#llama'), rdflib.term.Literal('LLaMA'), rdflib.term.URIRef('https://w3id.org/peo#LLAMA_2-13B'), None)\n",
      "(rdflib.term.URIRef('https://w3id.org/peo#llama'), rdflib.term.Literal('LLaMA'), rdflib.term.URIRef('https://w3id.org/peo#LLAMA_2-70B'), None)\n",
      "(rdflib.term.URIRef('https://w3id.org/peo#llama'), rdflib.term.Literal('LLaMA'), rdflib.term.URIRef('https://w3id.org/peo#LLAMA_2-7B'), None)\n",
      "(rdflib.term.URIRef('https://w3id.org/peo#llama'), rdflib.term.Literal('LLaMA'), rdflib.term.URIRef('https://w3id.org/peo#LLAMA_3'), None)\n",
      "(rdflib.term.URIRef('https://w3id.org/peo#llama'), rdflib.term.Literal('LLaMA'), rdflib.term.URIRef('https://w3id.org/peo#LLAMA_3.2'), None)\n",
      "(rdflib.term.URIRef('https://w3id.org/peo#llama'), rdflib.term.Literal('LLaMA'), rdflib.term.URIRef('https://w3id.org/peo#LLAMA_Guard'), None)\n",
      "(rdflib.term.URIRef('https://w3id.org/peo#midjourney'), rdflib.term.Literal('Midjourney'), rdflib.term.URIRef('https://w3id.org/peo#Midjourney_V1'), None)\n",
      "(rdflib.term.URIRef('https://w3id.org/peo#midjourney'), rdflib.term.Literal('Midjourney'), rdflib.term.URIRef('https://w3id.org/peo#Midjourney_V2'), None)\n",
      "(rdflib.term.URIRef('https://w3id.org/peo#midjourney'), rdflib.term.Literal('Midjourney'), rdflib.term.URIRef('https://w3id.org/peo#Midjourney_V3'), None)\n",
      "(rdflib.term.URIRef('https://w3id.org/peo#midjourney'), rdflib.term.Literal('Midjourney'), rdflib.term.URIRef('https://w3id.org/peo#Midjourney_V4'), None)\n",
      "(rdflib.term.URIRef('https://w3id.org/peo#midjourney'), rdflib.term.Literal('Midjourney'), rdflib.term.URIRef('https://w3id.org/peo#Midjourney_V5'), None)\n",
      "(rdflib.term.URIRef('https://w3id.org/peo#midjourney'), rdflib.term.Literal('Midjourney'), rdflib.term.URIRef('https://w3id.org/peo#Midjourney_V5.1'), None)\n",
      "(rdflib.term.URIRef('https://w3id.org/peo#midjourney'), rdflib.term.Literal('Midjourney'), rdflib.term.URIRef('https://w3id.org/peo#Midjourney_V5.2'), None)\n",
      "(rdflib.term.URIRef('https://w3id.org/peo#midjourney'), rdflib.term.Literal('Midjourney'), rdflib.term.URIRef('https://w3id.org/peo#Midjourney_V6'), None)\n",
      "(rdflib.term.URIRef('https://w3id.org/peo#midjourney'), rdflib.term.Literal('Midjourney'), rdflib.term.URIRef('https://w3id.org/peo#Midjourney_V6.2'), None)\n",
      "(rdflib.term.URIRef('https://w3id.org/peo#minerva'), rdflib.term.Literal('Minerva'), rdflib.term.URIRef('https://w3id.org/peo#Minerva-1B'), None)\n",
      "(rdflib.term.URIRef('https://w3id.org/peo#minerva'), rdflib.term.Literal('Minerva'), rdflib.term.URIRef('https://w3id.org/peo#Minerva-350M'), None)\n",
      "(rdflib.term.URIRef('https://w3id.org/peo#minerva'), rdflib.term.Literal('Minerva'), rdflib.term.URIRef('https://w3id.org/peo#Minerva-3B'), None)\n",
      "(rdflib.term.URIRef('https://w3id.org/peo#mistral'), rdflib.term.Literal('Mistral'), rdflib.term.URIRef('https://w3id.org/peo#Codestral'), None)\n",
      "(rdflib.term.URIRef('https://w3id.org/peo#mistral'), rdflib.term.Literal('Mistral'), rdflib.term.URIRef('https://w3id.org/peo#Mistral_7B'), None)\n",
      "(rdflib.term.URIRef('https://w3id.org/peo#mistral'), rdflib.term.Literal('Mistral'), rdflib.term.URIRef('https://w3id.org/peo#Mistral_Nemo'), None)\n",
      "(rdflib.term.URIRef('https://w3id.org/peo#mistral'), rdflib.term.Literal('Mistral'), rdflib.term.URIRef('https://w3id.org/peo#Pixtral'), None)\n",
      "(rdflib.term.URIRef('https://w3id.org/peo#mpt-7b'), rdflib.term.Literal('MPT-7B'), rdflib.term.URIRef('https://w3id.org/peo#MPT-7B-Instruct'), None)\n",
      "(rdflib.term.URIRef('https://w3id.org/peo#mpt-7b'), rdflib.term.Literal('MPT-7B'), rdflib.term.URIRef('https://w3id.org/peo#MPT-7B_base'), None)\n",
      "(rdflib.term.URIRef('https://w3id.org/peo#mpt-7b'), rdflib.term.Literal('MPT-7B'), rdflib.term.URIRef('https://w3id.org/peo#MPT-7B-StoryWriter-65k+'), None)\n",
      "(rdflib.term.URIRef('https://w3id.org/peo#olmo'), rdflib.term.Literal('OLMo'), rdflib.term.URIRef('https://w3id.org/peo#OLMo-1B-7B-0927-Instruct'), None)\n",
      "(rdflib.term.URIRef('https://w3id.org/peo#olmo'), rdflib.term.Literal('OLMo'), rdflib.term.URIRef('https://w3id.org/peo#OLMoE-1B-7B-0924'), None)\n",
      "(rdflib.term.URIRef('https://w3id.org/peo#olmo'), rdflib.term.Literal('OLMo'), rdflib.term.URIRef('https://w3id.org/peo#OLMoE_code'), None)\n",
      "(rdflib.term.URIRef('https://w3id.org/peo#openelm'), rdflib.term.Literal('OpenELM'), rdflib.term.URIRef('https://w3id.org/peo#OpenELM-1_1B'), None)\n",
      "(rdflib.term.URIRef('https://w3id.org/peo#openelm'), rdflib.term.Literal('OpenELM'), rdflib.term.URIRef('https://w3id.org/peo#OpenELM-1_1B-Instruct'), None)\n",
      "(rdflib.term.URIRef('https://w3id.org/peo#openelm'), rdflib.term.Literal('OpenELM'), rdflib.term.URIRef('https://w3id.org/peo#OpenELM-270M'), None)\n",
      "(rdflib.term.URIRef('https://w3id.org/peo#openelm'), rdflib.term.Literal('OpenELM'), rdflib.term.URIRef('https://w3id.org/peo#OpenELM-270M-Instruct'), None)\n",
      "(rdflib.term.URIRef('https://w3id.org/peo#openelm'), rdflib.term.Literal('OpenELM'), rdflib.term.URIRef('https://w3id.org/peo#OpenELM-3B'), None)\n",
      "(rdflib.term.URIRef('https://w3id.org/peo#openelm'), rdflib.term.Literal('OpenELM'), rdflib.term.URIRef('https://w3id.org/peo#OpenELM-3B-Instruct'), None)\n",
      "(rdflib.term.URIRef('https://w3id.org/peo#openelm'), rdflib.term.Literal('OpenELM'), rdflib.term.URIRef('https://w3id.org/peo#OpenELM-450M'), None)\n",
      "(rdflib.term.URIRef('https://w3id.org/peo#openelm'), rdflib.term.Literal('OpenELM'), rdflib.term.URIRef('https://w3id.org/peo#OpenELM-450M-Instruct'), None)\n",
      "(rdflib.term.URIRef('https://w3id.org/peo#opt'), rdflib.term.Literal('OPT'), rdflib.term.URIRef('https://w3id.org/peo#OPT-1.3B'), None)\n",
      "(rdflib.term.URIRef('https://w3id.org/peo#opt'), rdflib.term.Literal('OPT'), rdflib.term.URIRef('https://w3id.org/peo#OPT-125M'), None)\n",
      "(rdflib.term.URIRef('https://w3id.org/peo#opt'), rdflib.term.Literal('OPT'), rdflib.term.URIRef('https://w3id.org/peo#OPT-2.7B'), None)\n",
      "(rdflib.term.URIRef('https://w3id.org/peo#opt'), rdflib.term.Literal('OPT'), rdflib.term.URIRef('https://w3id.org/peo#OPT-30B'), None)\n",
      "(rdflib.term.URIRef('https://w3id.org/peo#opt'), rdflib.term.Literal('OPT'), rdflib.term.URIRef('https://w3id.org/peo#OPT-350M'), None)\n",
      "(rdflib.term.URIRef('https://w3id.org/peo#opt'), rdflib.term.Literal('OPT'), rdflib.term.URIRef('https://w3id.org/peo#OPT-6.7B'), None)\n",
      "(rdflib.term.URIRef('https://w3id.org/peo#opt'), rdflib.term.Literal('OPT'), rdflib.term.URIRef('https://w3id.org/peo#OPT-66B'), None)\n",
      "(rdflib.term.URIRef('https://w3id.org/peo#palm'), rdflib.term.Literal('PaLM'), rdflib.term.URIRef('https://w3id.org/peo#Med-PaLM_2'), None)\n",
      "(rdflib.term.URIRef('https://w3id.org/peo#palm'), rdflib.term.Literal('PaLM'), rdflib.term.URIRef('https://w3id.org/peo#PaLM_1'), None)\n",
      "(rdflib.term.URIRef('https://w3id.org/peo#palm'), rdflib.term.Literal('PaLM'), rdflib.term.URIRef('https://w3id.org/peo#PaLM_2_Bison'), None)\n",
      "(rdflib.term.URIRef('https://w3id.org/peo#palm'), rdflib.term.Literal('PaLM'), rdflib.term.URIRef('https://w3id.org/peo#PaLM_2_Gecko'), None)\n",
      "(rdflib.term.URIRef('https://w3id.org/peo#palm'), rdflib.term.Literal('PaLM'), rdflib.term.URIRef('https://w3id.org/peo#PaLM_2_Otter'), None)\n",
      "(rdflib.term.URIRef('https://w3id.org/peo#palm'), rdflib.term.Literal('PaLM'), rdflib.term.URIRef('https://w3id.org/peo#PaLM_2_Unicorn'), None)\n",
      "(rdflib.term.URIRef('https://w3id.org/peo#palm'), rdflib.term.Literal('PaLM'), rdflib.term.URIRef('https://w3id.org/peo#Sec-PaLM'), None)\n",
      "(rdflib.term.URIRef('https://w3id.org/peo#phi-1'), rdflib.term.Literal('Phi-1'), rdflib.term.URIRef('https://w3id.org/peo#Phi_1.5'), None)\n",
      "(rdflib.term.URIRef('https://w3id.org/peo#phi-1'), rdflib.term.Literal('Phi-1'), rdflib.term.URIRef('https://w3id.org/peo#Phi_2'), None)\n",
      "(rdflib.term.URIRef('https://w3id.org/peo#rwkv_llm'), rdflib.term.Literal('RWKV LLM'), rdflib.term.URIRef('https://w3id.org/peo#RWKV-v5'), None)\n",
      "(rdflib.term.URIRef('https://w3id.org/peo#sora'), rdflib.term.Literal('Sora'), rdflib.term.URIRef('https://w3id.org/peo#Sora_LLM'), None)\n",
      "(rdflib.term.URIRef('https://w3id.org/peo#stablelm'), rdflib.term.Literal('StableLM'), rdflib.term.URIRef('https://w3id.org/peo#stablelm-2-1-6b'), None)\n",
      "(rdflib.term.URIRef('https://w3id.org/peo#stablelm'), rdflib.term.Literal('StableLM'), rdflib.term.URIRef('https://w3id.org/peo#stablelm-2-12b'), None)\n",
      "(rdflib.term.URIRef('https://w3id.org/peo#starcoder'), rdflib.term.Literal('StarCoder'), rdflib.term.URIRef('https://w3id.org/peo#StarCoderBase'), None)\n",
      "(rdflib.term.URIRef('https://w3id.org/peo#starcoder'), rdflib.term.Literal('StarCoder'), rdflib.term.URIRef('https://w3id.org/peo#StarPii'), None)\n",
      "(rdflib.term.URIRef('https://w3id.org/peo#starcoder'), rdflib.term.Literal('StarCoder'), rdflib.term.URIRef('https://w3id.org/peo#StarCoder+'), None)\n",
      "(rdflib.term.URIRef('https://w3id.org/peo#t5'), rdflib.term.Literal('T5'), rdflib.term.URIRef('https://w3id.org/peo#T5_11B'), None)\n",
      "(rdflib.term.URIRef('https://w3id.org/peo#t5'), rdflib.term.Literal('T5'), rdflib.term.URIRef('https://w3id.org/peo#T5_3B'), None)\n",
      "(rdflib.term.URIRef('https://w3id.org/peo#t5'), rdflib.term.Literal('T5'), rdflib.term.URIRef('https://w3id.org/peo#T5_base'), None)\n",
      "(rdflib.term.URIRef('https://w3id.org/peo#t5'), rdflib.term.Literal('T5'), rdflib.term.URIRef('https://w3id.org/peo#T5_large'), None)\n",
      "(rdflib.term.URIRef('https://w3id.org/peo#t5'), rdflib.term.Literal('T5'), rdflib.term.URIRef('https://w3id.org/peo#T5_small'), None)\n",
      "(rdflib.term.URIRef('https://w3id.org/peo#vall-e'), rdflib.term.Literal('VALL-E'), rdflib.term.URIRef('https://w3id.org/peo#vall_e_llm'), None)\n",
      "(rdflib.term.URIRef('https://w3id.org/peo#vicuna'), rdflib.term.Literal('Vicuna'), rdflib.term.URIRef('https://w3id.org/peo#Vicuna-13B'), None)\n",
      "(rdflib.term.URIRef('https://w3id.org/peo#vicuna'), rdflib.term.Literal('Vicuna'), rdflib.term.URIRef('https://w3id.org/peo#Vicuna-13B-16k'), None)\n",
      "(rdflib.term.URIRef('https://w3id.org/peo#vicuna'), rdflib.term.Literal('Vicuna'), rdflib.term.URIRef('https://w3id.org/peo#Vicuna-33B'), None)\n",
      "(rdflib.term.URIRef('https://w3id.org/peo#vicuna'), rdflib.term.Literal('Vicuna'), rdflib.term.URIRef('https://w3id.org/peo#Vicuna-7B'), None)\n",
      "(rdflib.term.URIRef('https://w3id.org/peo#vicuna'), rdflib.term.Literal('Vicuna'), rdflib.term.URIRef('https://w3id.org/peo#Vicuna-7B-16k'), None)\n",
      "(rdflib.term.URIRef('https://w3id.org/peo#xlnet'), rdflib.term.Literal('XLNet'), rdflib.term.URIRef('https://w3id.org/peo#xlnet_llm'), None)\n"
     ]
    }
   ],
   "source": [
    "cq14 = \"\"\"\n",
    "SELECT DISTINCT ?llmType ?llmTypeLabel ?version ?versionLabel\n",
    "WHERE {\n",
    "    ?version rdf:type ?llmType .\n",
    "    ?llmType rdfs:subClassOf <https://w3id.org/peo#large_language_model> .\n",
    "    OPTIONAL { ?llmType rdfs:label ?llmTypeLabel . }\n",
    "    OPTIONAL { ?version rdfs:label ?versionLabel . }\n",
    "}\n",
    "\"\"\"\n",
    "\n",
    "results_cq14 = execute_query(cq14)\n",
    "print_results(results_cq14)"
   ]
  },
  {
   "cell_type": "markdown",
   "id": "1b808319-59db-4c1b-b893-ee936c103e53",
   "metadata": {},
   "source": [
    "## CQ15: What are large language models architectures?"
   ]
  },
  {
   "cell_type": "code",
   "execution_count": 23,
   "id": "39d09d36-91c2-49ab-9d6c-f036edb7ec9f",
   "metadata": {},
   "outputs": [
    {
     "name": "stdout",
     "output_type": "stream",
     "text": [
      "(rdflib.term.URIRef('https://w3id.org/peo#clip'), rdflib.term.Literal('CLIP'))\n",
      "(rdflib.term.URIRef('https://w3id.org/peo#decoder'), rdflib.term.Literal('Decoder'))\n",
      "(rdflib.term.URIRef('https://w3id.org/peo#diffusion_model'), rdflib.term.Literal('Diffusion model'))\n",
      "(rdflib.term.URIRef('https://w3id.org/peo#encoder'), rdflib.term.Literal('Encoder'))\n",
      "(rdflib.term.URIRef('https://w3id.org/peo#recurrent_neural_network'), rdflib.term.Literal('Recurrent Neural Network'))\n",
      "(rdflib.term.URIRef('https://w3id.org/peo#transformer'), rdflib.term.Literal('Transformer'))\n"
     ]
    }
   ],
   "source": [
    "cq15 = \"\"\"\n",
    "SELECT DISTINCT ?type ?label\n",
    "WHERE {\n",
    "    ?type rdfs:subClassOf <https://w3id.org/peo#base_model> .\n",
    "    OPTIONAL { ?type rdfs:label ?label . }\n",
    "}\n",
    "\"\"\"\n",
    "\n",
    "results_cq15 = execute_query(cq15)\n",
    "print_results(results_cq15)"
   ]
  },
  {
   "cell_type": "markdown",
   "id": "dc9a9c55-2802-487d-806f-51c39e08a6a1",
   "metadata": {},
   "source": [
    "## CQ16: What are large language models capabilites?"
   ]
  },
  {
   "cell_type": "code",
   "execution_count": 24,
   "id": "29f46fe2-a5d0-4cfb-81b7-f00c6392d69b",
   "metadata": {},
   "outputs": [
    {
     "name": "stdout",
     "output_type": "stream",
     "text": [
      "(rdflib.term.URIRef('https://w3id.org/peo#audio_processing'), rdflib.term.Literal('Audio processing'))\n",
      "(rdflib.term.URIRef('https://w3id.org/peo#code_processing'), rdflib.term.Literal('Code processing'))\n",
      "(rdflib.term.URIRef('https://w3id.org/peo#image_processing'), rdflib.term.Literal('Image processing'))\n",
      "(rdflib.term.URIRef('https://w3id.org/peo#text_processing'), rdflib.term.Literal('Text processing'))\n",
      "(rdflib.term.URIRef('https://w3id.org/peo#video_processing'), rdflib.term.Literal('Video processing'))\n"
     ]
    }
   ],
   "source": [
    "cq16 = \"\"\"\n",
    "SELECT DISTINCT ?type ?label\n",
    "WHERE {\n",
    "    ?type rdfs:subClassOf <https://w3id.org/peo#capability> .\n",
    "    OPTIONAL { ?type rdfs:label ?label . }\n",
    "}\n",
    "\"\"\"\n",
    "\n",
    "results_cq16 = execute_query(cq16)\n",
    "print_results(results_cq16)"
   ]
  },
  {
   "cell_type": "markdown",
   "id": "f01650bf-88b4-4d95-ad00-b4e62b28df82",
   "metadata": {},
   "source": [
    "## CQ17: What companies develop large language models?"
   ]
  },
  {
   "cell_type": "code",
   "execution_count": 25,
   "id": "86bf70b1-3594-4087-b442-8decb16d44ce",
   "metadata": {},
   "outputs": [
    {
     "name": "stdout",
     "output_type": "stream",
     "text": [
      "(rdflib.term.URIRef('https://w3id.org/peo#anthropic'), None)\n",
      "(rdflib.term.URIRef('https://w3id.org/peo#apple'), None)\n",
      "(rdflib.term.URIRef('https://w3id.org/peo#cohere'), None)\n",
      "(rdflib.term.URIRef('https://w3id.org/peo#databricks'), None)\n",
      "(rdflib.term.URIRef('https://w3id.org/peo#deepmind'), None)\n",
      "(rdflib.term.URIRef('https://w3id.org/peo#google'), None)\n",
      "(rdflib.term.URIRef('https://w3id.org/peo#meta'), None)\n",
      "(rdflib.term.URIRef('https://w3id.org/peo#microsoft'), None)\n",
      "(rdflib.term.URIRef('https://w3id.org/peo#mistral_ai'), None)\n",
      "(rdflib.term.URIRef('https://w3id.org/peo#openai'), None)\n",
      "(rdflib.term.URIRef('https://w3id.org/peo#salesforce'), None)\n",
      "(rdflib.term.URIRef('https://w3id.org/peo#stability_ai'), None)\n",
      "(rdflib.term.URIRef('https://w3id.org/peo#zhipu_ai'), None)\n"
     ]
    }
   ],
   "source": [
    "cq17 = \"\"\"\n",
    "SELECT DISTINCT ?company ?label\n",
    "WHERE {\n",
    "    ?company rdf:type <https://w3id.org/peo#company> .\n",
    "    OPTIONAL { ?company rdfs:label ?label . }\n",
    "}\n",
    "\"\"\"\n",
    "\n",
    "results_cq17 = execute_query(cq17)\n",
    "print_results(results_cq17)"
   ]
  },
  {
   "cell_type": "markdown",
   "id": "2459c851-ea18-43d8-b028-d54f5664a37d",
   "metadata": {},
   "source": [
    "## CQ18: What is the first version of each large language model developed by each company?"
   ]
  },
  {
   "cell_type": "code",
   "execution_count": 26,
   "id": "dc3601c1-e869-491d-8799-313348da0812",
   "metadata": {},
   "outputs": [
    {
     "name": "stdout",
     "output_type": "stream",
     "text": [
      "(rdflib.term.URIRef('https://w3id.org/peo#Claude_1.2'), rdflib.term.URIRef('https://w3id.org/peo#claude'), rdflib.term.URIRef('https://w3id.org/peo#anthropic'))\n",
      "(rdflib.term.URIRef('https://w3id.org/peo#OpenELM-1_1B'), rdflib.term.URIRef('https://w3id.org/peo#openelm'), rdflib.term.URIRef('https://w3id.org/peo#apple'))\n",
      "(rdflib.term.URIRef('https://w3id.org/peo#Command_R'), rdflib.term.URIRef('https://w3id.org/peo#command_r'), rdflib.term.URIRef('https://w3id.org/peo#cohere'))\n",
      "(rdflib.term.URIRef('https://w3id.org/peo#MPT-7B_base'), rdflib.term.URIRef('https://w3id.org/peo#mpt-7b'), rdflib.term.URIRef('https://w3id.org/peo#databricks'))\n",
      "(rdflib.term.URIRef('https://w3id.org/peo#Chinchilla_70B'), rdflib.term.URIRef('https://w3id.org/peo#chinchilla'), rdflib.term.URIRef('https://w3id.org/peo#deepmind'))\n",
      "(rdflib.term.URIRef('https://w3id.org/peo#gemma-1.1-2b-it'), rdflib.term.URIRef('https://w3id.org/peo#gemma'), rdflib.term.URIRef('https://w3id.org/peo#deepmind'))\n",
      "(rdflib.term.URIRef('https://w3id.org/peo#BERT_base'), rdflib.term.URIRef('https://w3id.org/peo#bert'), rdflib.term.URIRef('https://w3id.org/peo#google'))\n",
      "(rdflib.term.URIRef('https://w3id.org/peo#FLAN_T5_xxl'), rdflib.term.URIRef('https://w3id.org/peo#flan'), rdflib.term.URIRef('https://w3id.org/peo#google'))\n",
      "(rdflib.term.URIRef('https://w3id.org/peo#Gemini_Flash'), rdflib.term.URIRef('https://w3id.org/peo#gemini'), rdflib.term.URIRef('https://w3id.org/peo#google'))\n",
      "(rdflib.term.URIRef('https://w3id.org/peo#PaLM_1'), rdflib.term.URIRef('https://w3id.org/peo#palm'), rdflib.term.URIRef('https://w3id.org/peo#google'))\n",
      "(rdflib.term.URIRef('https://w3id.org/peo#T5_base'), rdflib.term.URIRef('https://w3id.org/peo#t5'), rdflib.term.URIRef('https://w3id.org/peo#google'))\n",
      "(rdflib.term.URIRef('https://w3id.org/peo#LLAMA_1'), rdflib.term.URIRef('https://w3id.org/peo#llama'), rdflib.term.URIRef('https://w3id.org/peo#meta'))\n",
      "(rdflib.term.URIRef('https://w3id.org/peo#OPT-1.3B'), rdflib.term.URIRef('https://w3id.org/peo#opt'), rdflib.term.URIRef('https://w3id.org/peo#meta'))\n",
      "(rdflib.term.URIRef('https://w3id.org/peo#Phi_1.5'), rdflib.term.URIRef('https://w3id.org/peo#phi-1'), rdflib.term.URIRef('https://w3id.org/peo#microsoft'))\n",
      "(rdflib.term.URIRef('https://w3id.org/peo#Phi_2'), rdflib.term.URIRef('https://w3id.org/peo#phi-1'), rdflib.term.URIRef('https://w3id.org/peo#microsoft'))\n",
      "(rdflib.term.URIRef('https://w3id.org/peo#vall_e_llm'), rdflib.term.URIRef('https://w3id.org/peo#vall-e'), rdflib.term.URIRef('https://w3id.org/peo#microsoft'))\n",
      "(rdflib.term.URIRef('https://w3id.org/peo#Mistral_7B'), rdflib.term.URIRef('https://w3id.org/peo#mistral'), rdflib.term.URIRef('https://w3id.org/peo#mistral_ai'))\n",
      "(rdflib.term.URIRef('https://w3id.org/peo#DALL-E_1'), rdflib.term.URIRef('https://w3id.org/peo#dall-e'), rdflib.term.URIRef('https://w3id.org/peo#openai'))\n",
      "(rdflib.term.URIRef('https://w3id.org/peo#GPT-1'), rdflib.term.URIRef('https://w3id.org/peo#gpt'), rdflib.term.URIRef('https://w3id.org/peo#openai'))\n",
      "(rdflib.term.URIRef('https://w3id.org/peo#Sora_LLM'), rdflib.term.URIRef('https://w3id.org/peo#sora'), rdflib.term.URIRef('https://w3id.org/peo#openai'))\n",
      "(rdflib.term.URIRef('https://w3id.org/peo#blip-image-captioning-base'), rdflib.term.URIRef('https://w3id.org/peo#blip-2'), rdflib.term.URIRef('https://w3id.org/peo#salesforce'))\n",
      "(rdflib.term.URIRef('https://w3id.org/peo#stablelm-2-1-6b'), rdflib.term.URIRef('https://w3id.org/peo#stablelm'), rdflib.term.URIRef('https://w3id.org/peo#stability_ai'))\n",
      "(rdflib.term.URIRef('https://w3id.org/peo#CogVLM2-19B'), rdflib.term.URIRef('https://w3id.org/peo#cogvlm'), rdflib.term.URIRef('https://w3id.org/peo#zhipu_ai'))\n"
     ]
    }
   ],
   "source": [
    "cq18 = \"\"\"\n",
    "SELECT ?llm  ?llmType ?company \n",
    "WHERE {\n",
    "    # Retrieve companies\n",
    "    ?company rdf:type <https://w3id.org/peo#company> .\n",
    "    \n",
    "    # Link companies to LLM instances through the develops relation\n",
    "    ?company <https://w3id.org/peo#develops> ?llm .\n",
    "    \n",
    "    # Ensure the LLM is an instance of a subclass of LargeLanguageModel\n",
    "    ?llm rdf:type ?llmType .\n",
    "    ?llmType rdfs:subClassOf <https://w3id.org/peo#large_language_model> .\n",
    "    \n",
    "    # Optionally retrieve labels for companies, LLMs, and LLM types\n",
    "    OPTIONAL { ?company rdfs:label ?companyLabel . }\n",
    "    OPTIONAL { ?llm rdfs:label ?llmLabel . }\n",
    "    OPTIONAL { ?llmType rdfs:label ?llmTypeLabel . }\n",
    "}\n",
    "\"\"\"\n",
    "\n",
    "results_cq18 = execute_query(cq18)\n",
    "print_results(results_cq18)"
   ]
  },
  {
   "cell_type": "code",
   "execution_count": null,
   "id": "ef875484-e59e-4fd6-8e6c-ffb760b035af",
   "metadata": {},
   "outputs": [],
   "source": []
  }
 ],
 "metadata": {
  "kernelspec": {
   "display_name": "Python 3 (ipykernel)",
   "language": "python",
   "name": "python3"
  },
  "language_info": {
   "codemirror_mode": {
    "name": "ipython",
    "version": 3
   },
   "file_extension": ".py",
   "mimetype": "text/x-python",
   "name": "python",
   "nbconvert_exporter": "python",
   "pygments_lexer": "ipython3",
   "version": "3.10.4"
  }
 },
 "nbformat": 4,
 "nbformat_minor": 5
}
